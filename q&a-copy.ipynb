{
  "cells": [
    {
      "cell_type": "code",
      "source": [
        "# from pydantic import BaseModel\n",
        "import pickle\n",
        "import transformers\n",
        "# transformers.logging.set_verbosity_info()\n",
        "from newsqa import NewsQaModel, getprediction\n",
        "from transformers import BertTokenizer\n",
        "model_name = 'bert-large-uncased-whole-word-masking-finetuned-squad'\n",
        "tokenzer = BertTokenizer.from_pretrained(model_name)\n",
        "newsqa_model = NewsQaModel()\n",
        "newsqa_model.load('data/bert_model.pt')\n",
        "\n",
        "\n"
      ],
      "outputs": [],
      "execution_count": 2,
      "metadata": {
        "tags": [],
        "gather": {
          "logged": 1650362290254
        }
      },
      "id": "d3135005-8a9f-437b-a694-873dfe9665a9"
    },
    {
      "cell_type": "code",
      "source": [
        "Paragraph = '''\n",
        "World War II or the Second World War, often abbreviated as WWII or WW2, was a global war that lasted from 1939 to 1945. It involved the vast majority of the world's countries—including all of the great powers—forming two opposing military alliances: the Allies and the Axis powers. In a total war directly involving more than 100 million personnel from more than 30 countries, the major participants threw their entire economic, industrial, and scientific capabilities behind the war effort, blurring the distinction between civilian and military resources. Aircraft played a major role in the conflict, enabling the strategic bombing of population centres and the only two uses of nuclear weapons in war. World War II was by far the deadliest conflict in human history; it resulted in 70 to 85 million fatalities, a majority being civilians. Tens of millions of people died due to genocides (including the Holocaust), starvation, massacres, and disease. In the wake of the Axis defeat, Germany and Japan were occupied, and war crimes tribunals were conducted against German and Japanese leaders.\n",
        "\n",
        "The exact causes of World War II are debated, but contributing factors included the Second Italo-Ethiopian War, the Spanish Civil War, the Second Sino-Japanese War, the Soviet–Japanese border conflicts and rising European tensions since World War I. World War II is generally considered to have begun on 1 September 1939, when Nazi Germany, under Adolf Hitler, invaded Poland. The United Kingdom and France subsequently declared war on Germany on 3 September. Under the Molotov–Ribbentrop Pact of August 1939, Germany and the Soviet Union had partitioned Poland and marked out their \"spheres of influence\" across Finland, Estonia, Latvia, Lithuania and Romania. From late 1939 to early 1941, in a series of campaigns and treaties, Germany conquered or controlled much of continental Europe, and formed the Axis alliance with Italy and Japan (along with other countries later on). Following the onset of campaigns in North Africa and East Africa, and the fall of France in mid-1940, the war continued primarily between the European Axis powers and the British Empire, with war in the Balkans, the aerial Battle of Britain, the Blitz of the UK, and the Battle of the Atlantic. On 22 June 1941, Germany led the European Axis powers in an invasion of the Soviet Union, opening the Eastern Front, the largest land theatre of war in history.\n",
        "\n",
        "Japan, which aimed to dominate Asia and the Pacific, was at war with the Republic of China by 1937. In December 1941, Japan attacked American and British territories with near-simultaneous offensives against Southeast Asia and the Central Pacific, including an attack on the US fleet at Pearl Harbor which resulted in the United States declaring war against Japan. Therefore the European Axis powers declared war on the United States in solidarity. Japan soon captured much of the western Pacific, but its advances were halted in 1942 after losing the critical Battle of Midway; later, Germany and Italy were defeated in North Africa and at Stalingrad in the Soviet Union. Key setbacks in 1943—including a series of German defeats on the Eastern Front, the Allied invasions of Sicily and the Italian mainland, and Allied offensives in the Pacific—cost the Axis powers their initiative and forced it into strategic retreat on all fronts. In 1944, the Western Allies invaded German-occupied France, while the Soviet Union regained its territorial losses and turned towards Germany and its allies. During 1944 and 1945, Japan suffered reversals in mainland Asia, while the Allies crippled the Japanese Navy and captured key western Pacific islands.\n",
        "\n",
        "The war in Europe concluded with the liberation of German-occupied territories, and the invasion of Germany by the Western Allies and the Soviet Union, culminating in the fall of Berlin to Soviet troops, Hitler's suicide and the German unconditional surrender on 8 May 1945. Following the Potsdam Declaration by the Allies on 26 July 1945 and the refusal of Japan to surrender on its terms, the United States dropped the first atomic bombs on the Japanese cities of Hiroshima, on 6 August, and Nagasaki, on 9 August. Faced with an imminent invasion of the Japanese archipelago, the possibility of additional atomic bombings, and the Soviet’s declared entry into the war against Japan on the eve of invading Manchuria, Japan announced on 15 August its intention to surrender, then signed the surrender document on 2 September 1945, cementing total victory in Asia for the Allies.\n",
        "\n",
        "World War II changed the political alignment and social structure of the globe. The United Nations (UN) was established to foster international co-operation and prevent future conflicts,[1] with the victorious great powers—China, France, the Soviet Union, the United Kingdom, and the United States—becoming the permanent members of its Security Council. The Soviet Union and the United States emerged as rival superpowers, setting the stage for the nearly half-century-long Cold War. In the wake of European devastation, the influence of its great powers waned, triggering the decolonisation of Africa and Asia. Most countries whose industries had been damaged moved towards economic recovery and expansion. Political and economic integration, especially in Europe, began as an effort to forestall future hostilities, end pre-war enmities and forge a sense of common identity.\n",
        "In Europe, Germany and Italy were becoming more aggressive. In March 1938, Germany annexed Austria, again provoking little response from other European powers.[51] Encouraged, Hitler began pressing German claims on the Sudetenland, an area of Czechoslovakia with a predominantly ethnic German population. Soon the United Kingdom and France followed the appeasement policy of British Prime Minister Neville Chamberlain and conceded this territory to Germany in the Munich Agreement, which was made against the wishes of the Czechoslovak government, in exchange for a promise of no further territorial demands.[52] Soon afterwards, Germany and Italy forced Czechoslovakia to cede additional territory to Hungary, and Poland annexed Czechoslovakia's Zaolzie region.[53]\n",
        "\n",
        "Although all of Germany's stated demands had been satisfied by the agreement, privately Hitler was furious that British interference had prevented him from seizing all of Czechoslovakia in one operation. In subsequent speeches Hitler attacked British and Jewish \"war-mongers\" and in January 1939 secretly ordered a major build-up of the German navy to challenge British naval supremacy. In March 1939, Germany invaded the remainder of Czechoslovakia and subsequently split it into the German Protectorate of Bohemia and Moravia and a pro-German client state, the Slovak Republic.[54] Hitler also delivered an ultimatum to Lithuania on 20 March 1939, forcing the concession of the Klaipėda Region, formerly the German Memelland.[55]\n",
        "\n",
        "\n",
        "German Foreign Minister Joachim von Ribbentrop (right) and the Soviet leader Joseph Stalin, after signing the Molotov–Ribbentrop Pact, 23 August 1939\n",
        "Greatly alarmed and with Hitler making further demands on the Free City of Danzig, the United Kingdom and France guaranteed their support for Polish independence; when Italy conquered Albania in April 1939, the same guarantee was extended to the Kingdoms of Romania and Greece.[56] Shortly after the Franco-British pledge to Poland, Germany and Italy formalised their own alliance with the Pact of Steel.[57] Hitler accused the United Kingdom and Poland of trying to \"encircle\" Germany and renounced the Anglo-German Naval Agreement and the German–Polish Non-Aggression Pact.[58]\n",
        "\n",
        "The situation reached a general crisis in late August as German troops continued to mobilise against the Polish border. On 23 August, when tripartite negotiations about a military alliance between France, the United Kingdom and Soviet Union stalled,[59] the Soviet Union signed a non-aggression pact with Germany.[60] This pact had a secret protocol that defined German and Soviet \"spheres of influence\" (western Poland and Lithuania for Germany; eastern Poland, Finland, Estonia, Latvia and Bessarabia for the Soviet Union), and raised the question of continuing Polish independence.[61] The pact neutralised the possibility of Soviet opposition to a campaign against Poland and assured that Germany would not have to face the prospect of a two-front war, as it had in World War I. Immediately after that, Hitler ordered the attack to proceed on 26 August, but upon hearing that the United Kingdom had concluded a formal mutual assistance pact with Poland and that Italy would maintain neutrality, he decided to delay it.[62]\n",
        "\n",
        "In response to British requests for direct negotiations to avoid war, Germany made demands on Poland, which only served as a pretext to worsen relations.[63] On 29 August, Hitler demanded that a Polish plenipotentiary immediately travel to Berlin to negotiate the handover of Danzig, and to allow a plebiscite in the Polish Corridor in which the German minority would vote on secession.[63] The Poles refused to comply with the German demands, and on the night of 30–31 August in a confrontational meeting with the British ambassador Nevile Henderson, Ribbentrop declared that Germany considered its claims rejected.[64]\n",
        "On 1 September 1939, Germany invaded Poland after having staged several false flag border incidents as a pretext to initiate the invasion.[65] The first German attack of the war came against the Polish defenses at Westerplatte.[66] The United Kingdom responded with an ultimatum to Germany to cease military operations, and on 3 September, after the ultimatum was ignored, Britain and France declared war on Germany,[67] followed by Australia, New Zealand, South Africa and Canada. The alliance provided no direct military support to Poland, outside of a cautious French probe into the Saarland.[68] The Western Allies also began a naval blockade of Germany, which aimed to damage the country's economy and the war effort.[69] Germany responded by ordering U-boat warfare against Allied merchant and warships, which would later escalate into the Battle of the Atlantic.[citation needed]\n",
        "\n",
        "\n",
        "Soldiers of the Polish Army during the defence of Poland, September 1939\n",
        "On 8 September, German troops reached the suburbs of Warsaw. The Polish counter offensive to the west halted the German advance for several days, but it was outflanked and encircled by the Wehrmacht. Remnants of the Polish army broke through to besieged Warsaw. On 17 September 1939, two days after signing a cease-fire with Japan, the Soviet Union invaded Poland[70] under the pretext that the Polish state had ostensibly ceased to exist.[71] On 27 September, the Warsaw garrison surrendered to the Germans, and the last large operational unit of the Polish Army surrendered on 6 October. Despite the military defeat, Poland never surrendered; instead, it formed the Polish government-in-exile and a clandestine state apparatus remained in occupied Poland.[72] A significant part of Polish military personnel evacuated to Romania and Latvia; many of them later fought against the Axis in other theatres of the war.[73]\n",
        "\n",
        "Germany annexed the western and occupied the central part of Poland, and the Soviet Union annexed its eastern part; small shares of Polish territory were transferred to Lithuania and Slovakia. On 6 October, Hitler made a public peace overture to the United Kingdom and France but said that the future of Poland was to be determined exclusively by Germany and the Soviet Union. The proposal was rejected,[64] and Hitler ordered an immediate offensive against France,[74] which was postponed until the spring of 1940 due to bad weather.[75][76][77]\n",
        "\n",
        "\n",
        "Finnish machine gun nest aimed at Soviet Red Army positions during the Winter War, February 1940\n",
        "After the outbreak of war in Poland, Stalin threatened Estonia, Latvia and Lithuania with military invasion, forcing the three Baltic countries to sign pacts that stipulated the creation of Soviet military bases in these countries. In October 1939, significant Soviet military contingents were moved there.[78][79][80] Finland refused to sign a similar pact and rejected ceding part of its territory to the Soviet Union. The Soviet Union invaded Finland in November 1939,[81] and the Soviet Union was expelled from the League of Nations.[82] Despite overwhelming numerical superiority, Soviet military success during the Winter War was modest,[83] and the Finno-Soviet war ended in March 1940 with some Finnish concessions of territory.[84]\n",
        "\n",
        "In June 1940, the Soviet Union occupied the entire territories of Estonia, Latvia and Lithuania,[79] and the Romanian regions of Bessarabia, Northern Bukovina and the Hertsa region. In August 1940, with German and Italian support, Hungary demanded Transylvania from Romania, through German arbitration Hungary would only receive Northern Transylvania leading to the Second Vienna Award, also known as the Vienna Diktat, a region with ethnic Romanian majority.[85] In September 1940, Bulgaria demanded Southern Dobruja from Romania with German and Italian support, leading to the Treaty of Craiova.[86] The loss of one-third of Romania's 1939 territory caused a coup against King Carol II, turning Romania into a fascist dictatorship under Marshal Ion Antonescu with a course set firmly towards the Axis in the hopes of a German guarantee.[87] Meanwhile, Nazi-Soviet political rapprochement and economic co-operation[88][89] gradually stalled,[90][91] and both states began preparations for war.[92]\n",
        "'''\n",
        "\n",
        "Question = \"When did germany invade poland?\""
      ],
      "outputs": [],
      "execution_count": 3,
      "metadata": {
        "tags": [],
        "gather": {
          "logged": 1650362303643
        }
      },
      "id": "135ba3b8-73c3-43a8-976d-d6a3705a6b9c"
    },
    {
      "cell_type": "code",
      "source": [
        "Paragraph = '''\r\n",
        "MOSCOW, Russia (CNN) – Russian space officials say the crew of the Soyuz space ship is resting after a rough ride back to Earth. A South Korean bioengineer was one of three people on board the Soyuz capsule. The craft carrying South Korea’s first astronaut landed in northern Kazakhstan on Saturday, 260 miles (418 kilometers) off its mark, they said.\r\n",
        "Mission Control spokesman Valery Lyndin said the condition of the crew – South Korean bioengineer Yi So-yeon, American astronaut Peggy Whitson and Russian flight engineer Yuri Malenchenko – was satisfactory, though the three had been subjected to severe G-forces during the re-entry'''\r\n",
        "\r\n",
        "Question = \"Where did the Soyuz capsule land?\""
      ],
      "outputs": [],
      "execution_count": 4,
      "metadata": {
        "jupyter": {
          "source_hidden": false,
          "outputs_hidden": false
        },
        "nteract": {
          "transient": {
            "deleting": false
          }
        },
        "gather": {
          "logged": 1650362307229
        }
      },
      "id": "d1597c24-8300-43e7-a668-cb490294e8ba"
    },
    {
      "cell_type": "code",
      "source": [
        "Paragraph = '''(CNN) -- At the stroke of midnight, American beer drinkers were no longer breaking the law when they broke open a beer.\r\n",
        "\r\n",
        "Brewers and beer lovers this weekend are toasting the return of legal brew 75 years ago.\r\n",
        "\r\n",
        "Breweries and beer lovers around the country are celebrating the 75th anniversary of the return of beer on April 7, 1933, as the Prohibition era was drawing to a close.\r\n",
        "\r\n",
        "It wasn't quite the end of Prohibition, and it wasn't quite beer, but after 14 thirsty years, it was close enough.\r\n",
        "\r\n",
        "What became available that day was only 3.2 percent alcohol by weight (compared with up to 5 percent in full-strength beer), but still, it was a step up from the virtually alcohol-free \"near beer\" that had been sold since 1920.\r\n",
        "\r\n",
        "\"It's a big deal. ... The whole industry of beer has gotten together to say this date is definitely historic,\" said Julia Herz, spokeswoman for the Brewers Association, which represents smaller \"craft\" brewers.\r\n",
        "\r\n",
        "In St. Louis, Missouri, megabrewer Anheuser-Busch is throwing a big bash, complete with historical exhibits and an appearance by the company's famous Clydesdale horses.\r\n",
        "\r\n",
        "Also in St. Louis, but on a more intimate scale, Schlafly Beer is inviting folks to come out to its Bottleworks for a festival next weekend.\r\n",
        "\r\n",
        "Remnants of Prohibition survive today in the form of state-owned liquor stores and local laws that, for example, prevent sales of alcohol on Sundays or in grocery stores. Some counties remain entirely dry, banning alcohol sales altogether, and 3.2 beer is still sold in six states (Colorado, Kansas, Minnesota, Missouri, Oklahoma and Utah), according to Modern Brewery Age magazine.\r\n",
        "\r\n",
        "And there are those who think a beer-related anniversary is nothing to celebrate.\r\n",
        "\r\n",
        "\"It is the product of choice for underage drinking,\" said Michael Scippa, advocacy director for the Marin Institute, an alcohol industry watchdog group.\r\n",
        "\r\n",
        "\"We're not neo-Prohibitionists or teetotalers,\" he said. \"We're not trying to tell adults what to do. \" He said his group just wants the industry to operate more responsibly.\r\n",
        "\r\n",
        "The crowds celebrating the anniversary are unlikely to match the size or enthusiasm of those that gathered around breweries all over the country on \"New Beer's Eve,\" April 6, 1933, in anticipation of the return of legal beer that actually had some alcohol in it.\r\n",
        "\r\n",
        "\"There was dancing in the streets and lines outside brewery doors ... It was a big date, for sure,\" Herz said.\r\n",
        "\r\n",
        "Franklin Delano Roosevelt had been president barely a month, having been sworn in on March 4 after a landslide victory the previous November. Sweeping into power with him was an anti-Prohibition majority in Congress known as \"the wets.\"\r\n",
        "\r\n",
        "Together they fulfilled their first campaign promise with passage of the Cullen-Harrison Act, which increased the amount of alcohol allowed in beverages from 0.5 percent to a discernible 3.2 percent by weight.\r\n",
        "\r\n",
        "When the act took effect at 12:01 a.m. ET April 7, trucks and carriages burst out of brewery gates bearing cases and barrels of beer for a parched republic -- at least for the District of Columbia and the 20 states whose laws permitted it. Several breweries dispatched cases directly to the White House and the Capitol.\r\n",
        "\r\n",
        "According to the Brewers Association, more than 1.5 million barrels were snapped up in the first 24 hours.\r\n",
        "\r\n",
        "Full-strength beer and hard liquor were still a few months away. National Prohibition wasn't repealed until the 21st Amendment to the Constitution was ratified on December 5.\r\n",
        "\r\n",
        "Bob Skilnik, author of eight books about beer, including \"Beer & Food: An American History,\" holds that the December date is more significant and that the quickly brewed April 7 beer probably was of poor quality.\r\n",
        "\r\n",
        "\"I know everyone gets excited about it, but you were offered a watered-down version of beer. That's all you got,\" Skilnik said. \"It probably wasn't a very satisfying drink. If you wanted to have a shot [of hard liquor] on the side, you still had to wait until December 5th for that to happen.\"\r\n",
        "\r\n",
        "But the celebration was about more than getting a buzz.\r\n",
        "\r\n",
        "According to a contemporary article in The New York Times, the revival of the brewing industry restored at least 50,000 jobs in the midst of the Great Depression, instantly breathing life into the economies of St. Louis; Milwaukee, Wisconsin; Chicago, Illinois; and other cities and towns where breweries were large employers.\r\n",
        "\r\n",
        "\"April 7th was really just ... FDR looking for an economic shot in the arm,\" Skilnik said. \"And it was a very successful shot in the arm. There was a hell of a lot of money spent.\" He said $25 million was pumped into breweries and associated businesses -- helping farmers, truckers, and glassmakers as well as brewers and pubs -- in the first 48 hours of sales.\r\n",
        "\r\n",
        "And that was good for cash-strapped governments, too.\r\n",
        "\r\n",
        "\"Everybody [in government], for the first time, started to wrap their heads around the notion that this is something that you could tax,\" he said.\r\n",
        "\r\n",
        "The first day of beer sales reaped $7.5 million in tax receipts for the U.S. Treasury, he noted.\r\n",
        "\r\n",
        "About half the nation's breweries went out of business during Prohibition, but others survived by converting to products such as oleomargarine, ice cream, cheese and smoked ham.\r\n",
        "\r\n",
        "So at the Storck brewery in Milwaukee, for example, children could enjoy a sundae while Mom or Dad slipped away to a room where illicit beer was served from a hidden tap, according to the American Brewerania Association's Web site.\r\n",
        "\r\n",
        "Yes, despite Prohibition, Americans could go for the gusto. Chicago had as many as 20,000 speakeasies, Skilnik said.\r\n",
        "\r\n",
        "\"If you couldn't find a beer during Prohibition,\" he said, \"you really weren't trying.\" E-mail to a friend\r\n",
        "\r\n",
        "@highlight\r\n",
        "\r\n",
        "Brewers, beer lovers celebrate 75th anniversary of return of beer on Monday\r\n",
        "\r\n",
        "@highlight\r\n",
        "\r\n",
        "Change in law in 1933 made beer legal after 14 years of Prohibition\r\n",
        "\r\n",
        "@highlight\r\n",
        "\r\n",
        "\"New Beer's Eve\" provided instant economic boost during Depression\r\n",
        "\r\n",
        "@highlight\r\n",
        "\r\n",
        "Quickly brewed, weak beverage probably tasted bad, expert says\r\n",
        "'''\r\n",
        "Question = \"when was the law changed ?\""
      ],
      "outputs": [],
      "execution_count": 5,
      "metadata": {
        "jupyter": {
          "source_hidden": false,
          "outputs_hidden": false
        },
        "nteract": {
          "transient": {
            "deleting": false
          }
        },
        "gather": {
          "logged": 1650362312266
        }
      },
      "id": "4ef7f05c-3b3c-4221-bb3d-1986f9516812"
    },
    {
      "cell_type": "code",
      "source": [
        "Paragraph = '''Johannesburg (CNN) -- Miffed by a visa delay that led the Dalai Lama to cancel a trip to South Africa, Archbishop Desmond Tutu lashed out at his government Tuesday, saying it had acted worse than apartheid regimes and had forgotten all that the nation stood for.\r\n",
        "\r\n",
        "\"When we used to apply for passports under the apartheid government, we never knew until the last moment what their decision was,\" Tutu said at a news conference. \"Our government is worse than the apartheid government because at least you were expecting it from the apartheid government.\r\n",
        "\r\n",
        "\"I have to say that I can't believe this. I really can't believe this,\" Tutu said. \"You have to wake me up and tell me this is actually happening here.\"\r\n",
        "\r\n",
        "The Dalai Lama scrapped his planned trip to South Africa this week after the nation failed to issue him a visa in time, his spokesman said.\r\n",
        "\r\n",
        "Visa applications for him and his entourage were submitted to the South African High Commission in New Delhi, India, at the end of August, and original passports were submitted on September 20, more than two weeks ago, a statement on his website said.\r\n",
        "\r\n",
        "However, South Africa's foreign affairs office said it did not refuse a visa.\r\n",
        "\r\n",
        "\"South Africa will not comment on the decision, because it is not our decision, it is his decision,\" according to spokesman Clayson Monyela, who said the visa application was still under consideration.\r\n",
        "\r\n",
        "The Dalai Lama had been invited to the country to receive the Mahatma Gandhi International Award for Peace and Reconciliation and to speak at a number of events, including a lecture in honor of Tutu's 80th birthday. Tutu and the Dalai Lama are recipients of the Nobel Peace Prize.\r\n",
        "\r\n",
        "Tutu said he would pray for the defeat of South Africa's government, led by the African National Congress (ANC), which is rooted in the fight against the system of apartheid, or legal racial separation, that was present in South Africa until 1994.\r\n",
        "\r\n",
        "\"You are disgraceful,\" Tutu said about the government. \"You are behaving in a way that is totally at variance with the things for which we stood.\"\r\n",
        "\r\n",
        "The ANC plans to call on government officials to explain to South Africans why the visa process was delayed, spokesman Jackson Mtembu said. He said everyone was in the dark about this matter.\r\n",
        "\r\n",
        "But he also suggested that Tutu calm down. A comparison to apartheid regimes, he said, was unfair.\r\n",
        "\r\n",
        "This is not the first time the Dalai Lama has not been able to visit South Africa. In 2009, South Africa refused the Tibetan spiritual leader a visa to attend an international peace conference, saying it was not in the country's interest for him to attend.\r\n",
        "\r\n",
        "In refusing the 2009 application, South Africa said that if the Dalai Lama attended the conference, the focus would shift away from the 2010 World Cup, the global soccer championship it was hosting.\r\n",
        "\r\n",
        "\"We cannot allow focus to shift to China and Tibet,\" presidential spokesman Thabo Masebe said, adding that South Africa had gained much from its trading relationship with China.\r\n",
        "\r\n",
        "The Dalai Lama fled Tibet in 1959 after a failed uprising against Chinese rule, and China pressures governments around the world to deny him any legitimacy.\r\n",
        "\r\n",
        "Speculation surfaced Tuesday that this year's visit was also affected by South Africa's relationship with China.\r\n",
        "\r\n",
        "South African Vice President Kgalema Motlanthe visited Beijing last week and met with Chinese President Hu Jintao to discuss bolstering bilateral ties.\r\n",
        "\r\n",
        "Motlanthe said South Africa was ready to boost the strategic partnership between the two countries to a new stage, according to the official Chinese news agency Xinhua.\r\n",
        "\r\n",
        "But Monyela said the application had nothing to do with China.\r\n",
        "\r\n",
        "\"We are a sovereign nation which takes decisions in our domestic interest,\" Monyela said.\r\n",
        "\r\n",
        "The Dalai Lama posted a message on Twitter last week that said: \"Even if the Chinese leave nothing but ashes, Tibet will rise from these ashes as a free country even if it takes a long time to do so.\"\r\n",
        "\r\n",
        "Kim Norgaard, CNN's Johannesburg bureau chief, contributed to this report.\r\n",
        "\r\n",
        "@highlight\r\n",
        "\r\n",
        "NEW: The African National Congress says Desmond Tutu should calm down\r\n",
        "\r\n",
        "@highlight\r\n",
        "\r\n",
        "Tutu says the government is acting worse than apartheid regime\r\n",
        "\r\n",
        "@highlight\r\n",
        "\r\n",
        "The Dalai Lama says South Africa did not issue a visa on time\r\n",
        "\r\n",
        "@highlight\r\n",
        "\r\n",
        "He was denied a visa to South Africa in 2009'''\r\n",
        "\r\n",
        "# Question =\"who did say South Africa did not issue a visa on time?\"\r\n",
        "# Question = \"What did dalai lama do?\"\r\n",
        "Question = \"\""
      ],
      "outputs": [],
      "execution_count": 12,
      "metadata": {
        "jupyter": {
          "source_hidden": false,
          "outputs_hidden": false
        },
        "nteract": {
          "transient": {
            "deleting": false
          }
        },
        "gather": {
          "logged": 1650362408461
        }
      },
      "id": "f77755fc-c518-4843-93f0-9eb63ce64c35"
    },
    {
      "cell_type": "code",
      "source": [
        "getprediction(Paragraph, Question,tokenzer, newsqa_model, doc_stride = 512)"
      ],
      "outputs": [
        {
          "output_type": "execute_result",
          "execution_count": 6,
          "data": {
            "text/plain": "(['midnight, American beer drinkers were no longer breaking the law when they broke open a beer.\\n\\nBrewers ',\n  'April 7, ',\n  '1933 made beer legal after 14 years of Prohibition\\n\\n@highlight\\n\\n\"New '],\n [(26, 129), (2914, 2923), (5791, 5860)])"
          },
          "metadata": {}
        }
      ],
      "execution_count": 6,
      "metadata": {
        "tags": [],
        "gather": {
          "logged": 1650362321962
        }
      },
      "id": "789a33c7-d126-4220-abd8-09c04fd368bb"
    },
    {
      "cell_type": "code",
      "source": [
        "%%capture\n",
        "from reranker import Rerank\n",
        "import re\n",
        "model_path = \"nboost/pt-tinybert-msmarco\"\n",
        "rerank = Rerank(model_path)\n"
      ],
      "outputs": [],
      "execution_count": 7,
      "metadata": {
        "tags": []
      },
      "id": "d40e2380-3274-4525-97d5-2ddd7723e860"
    },
    {
      "cell_type": "code",
      "source": [
        "%%capture\n",
        "sentences = re.split('\\n', Paragraph)\n",
        "results = rerank.rerank(Question, sentences, topn=3)"
      ],
      "outputs": [],
      "execution_count": 8,
      "metadata": {
        "tags": []
      },
      "id": "819a9caf-b880-441c-b609-8529ce61d442"
    },
    {
      "cell_type": "code",
      "source": [
        "query = results['query']\r\n",
        "str = listToString(results['top_sentences'])\r\n",
        "getprediction(str, query,tokenzer, newsqa_model, doc_stride = 512)"
      ],
      "outputs": [
        {
          "output_type": "execute_result",
          "execution_count": 11,
          "data": {
            "text/plain": "(['1933 '], [(17, 22)])"
          },
          "metadata": {}
        }
      ],
      "execution_count": 11,
      "metadata": {
        "tags": [],
        "gather": {
          "logged": 1650362370422
        }
      },
      "id": "c251f02d-a373-4a37-b579-89128dfc5898"
    },
    {
      "cell_type": "code",
      "source": [
        "def PrintResults(obj):\n",
        "    if isinstance(obj, dict):\n",
        "        for k, v in obj.items():\n",
        "            if hasattr(v, '__iter__'):\n",
        "                print (k)\n",
        "                PrintResults(v)\n",
        "            else:\n",
        "                print ('%s : %s' % (k, v))\n",
        "    elif isinstance(obj, list):\n",
        "        for v in obj:\n",
        "            if hasattr(v, '__iter__'):\n",
        "                PrintResults(v)\n",
        "            else:\n",
        "                print(v) \n",
        "    else:\n",
        "        print (obj)\n",
        "def listToString(s): \n",
        "    \n",
        "    # initialize an empty string\n",
        "    str1 = \"\" \n",
        "    \n",
        "    # traverse in the string  \n",
        "    for ele in s: \n",
        "        str1 += ele + \" \"  \n",
        "    \n",
        "    # return string  \n",
        "    return str1"
      ],
      "outputs": [],
      "execution_count": 10,
      "metadata": {
        "tags": [],
        "gather": {
          "logged": 1650362367496
        }
      },
      "id": "e469dffa-3610-439f-b518-4bbee65bd7a3"
    }
  ],
  "metadata": {
    "kernelspec": {
      "name": "python3",
      "language": "python",
      "display_name": "Python 3"
    },
    "language_info": {
      "name": "python",
      "version": "3.8.5",
      "mimetype": "text/x-python",
      "codemirror_mode": {
        "name": "ipython",
        "version": 3
      },
      "pygments_lexer": "ipython3",
      "nbconvert_exporter": "python",
      "file_extension": ".py"
    },
    "kernel_info": {
      "name": "python3"
    },
    "microsoft": {
      "host": {
        "AzureML": {
          "notebookHasBeenCompleted": true
        }
      }
    },
    "nteract": {
      "version": "nteract-front-end@1.0.0"
    }
  },
  "nbformat": 4,
  "nbformat_minor": 5
}
