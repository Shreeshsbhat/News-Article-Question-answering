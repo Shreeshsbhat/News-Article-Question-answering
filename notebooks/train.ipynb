{
  "cells": [
    {
      "cell_type": "code",
      "source": [
        "!pip install --upgrade twisted\n",
        "!pip install transformers==3.0.2"
      ],
      "outputs": [
        {
          "output_type": "stream",
          "name": "stdout",
          "text": "/bin/bash: pip: command not found\r\n/bin/bash: pip: command not found\r\n"
        }
      ],
      "execution_count": 6,
      "metadata": {
        "tags": [],
        "gather": {
          "logged": 1649823648074
        }
      }
    },
    {
      "cell_type": "code",
      "source": [
        "!python -m spacy download en_core_web_md"
      ],
      "outputs": [
        {
          "output_type": "stream",
          "name": "stdout",
          "text": "/usr/bin/python: No module named spacy\r\n"
        }
      ],
      "execution_count": 4,
      "metadata": {
        "execution": {
          "iopub.execute_input": "2022-04-03T02:42:08.436832Z",
          "iopub.status.busy": "2022-04-03T02:42:08.436596Z",
          "iopub.status.idle": "2022-04-03T02:42:16.591828Z",
          "shell.execute_reply": "2022-04-03T02:42:16.591047Z",
          "shell.execute_reply.started": "2022-04-03T02:42:08.436808Z"
        }
      }
    },
    {
      "cell_type": "code",
      "source": [
        "!pip install ipywidgets --user"
      ],
      "outputs": [
        {
          "output_type": "stream",
          "name": "stdout",
          "text": "/bin/bash: pip: command not found\r\n"
        }
      ],
      "execution_count": 5,
      "metadata": {
        "tags": []
      }
    },
    {
      "cell_type": "code",
      "source": [
        "restart"
      ],
      "outputs": [],
      "execution_count": null,
      "metadata": {}
    },
    {
      "cell_type": "code",
      "source": [
        "# Required imports\n",
        "import sys\n",
        "sys.path.append(\"../\")\n",
        "\n",
        "import warnings\n",
        "warnings.filterwarnings(\"ignore\")\n",
        "\n",
        "import random\n",
        "import re\n",
        "import utils\n",
        "import os.path\n",
        "\n",
        "import numpy as np\n",
        "import pandas as pd\n",
        "import matplotlib.pyplot as plt\n",
        "plt.style.use('seaborn-whitegrid')\n",
        "\n",
        "from sklearn.feature_extraction.text import CountVectorizer\n",
        "from newsqa import NewsQaExample, NewsQaModel, create_dataset, getprediction\n",
        "\n",
        "from transformers import BertTokenizer, BertForQuestionAnswering\n",
        "from transformers import DistilBertTokenizer, DistilBertForQuestionAnswering\n",
        "\n",
        "import torch\n",
        "from torch.utils.data import DataLoader, RandomSampler, SequentialSampler\n",
        "device = torch.device(\"cuda:0\" if torch.cuda.is_available() else \"cpu\")\n",
        "torch.manual_seed(0)\n",
        "\n",
        "\n",
        "from sklearn.metrics.pairwise import cosine_similarity\n",
        "import spacy\n",
        "\n",
        "from spacy.lang.en import English\n",
        "import en_core_web_md\n",
        "nlp = en_core_web_md.load()\n",
        "en = English()"
      ],
      "outputs": [],
      "execution_count": 1,
      "metadata": {
        "execution": {
          "iopub.execute_input": "2022-04-03T02:42:22.110305Z",
          "iopub.status.busy": "2022-04-03T02:42:22.110045Z",
          "iopub.status.idle": "2022-04-03T02:42:23.939716Z",
          "shell.execute_reply": "2022-04-03T02:42:23.938849Z",
          "shell.execute_reply.started": "2022-04-03T02:42:22.110279Z"
        },
        "gather": {
          "logged": 1649912398164
        }
      }
    },
    {
      "cell_type": "markdown",
      "source": [
        "## EDA"
      ],
      "metadata": {}
    },
    {
      "cell_type": "code",
      "source": [
        "# Reading in the dataset\n",
        "data = pd.read_csv('../data/newsqa-data-v1.csv')\n",
        "\n",
        "# Getting a sample from the dataset\n",
        "data = data.sample(frac = 0.20, random_state = 9)\n",
        "data = data.reset_index(drop = True)\n",
        "\n",
        "data.head()"
      ],
      "outputs": [
        {
          "output_type": "execute_result",
          "execution_count": 2,
          "data": {
            "text/plain": "                                            story_id  \\\n0  ./cnn/stories/43a488c2d73b4f34122fc92c8df04670...   \n1  ./cnn/stories/91607b09ab00b8dff5d7b98387ed132a...   \n2  ./cnn/stories/c674fdceb339915df2a9de1a0bd3007c...   \n3  ./cnn/stories/a0c2d26c2ebecd53dcecc9ea04ae8c5a...   \n4  ./cnn/stories/ad2af6c1362a3f84000edd71fd752ad6...   \n\n                                question                   answer_char_ranges  \\\n0              When was the plane crash?    2794:2805,372:382|398:410|372:382   \n1    Where has Musharraf lived in exile?        1018:1035|1008:1035|1018:1035   \n2                    What is he leaving?                 529:543|None|237:252   \n3  What should the president understand?                       None|4317:4469   \n4          Bush commutes whose sentence?  103:129,366:380,384:397,92:103|None   \n\n   is_answer_absent is_question_bad             validated_answers  \n0               0.0             0.0                   {\"none\": 2}  \n1               0.0             0.0                           NaN  \n2               0.0  0.333333333333                {\"237:252\": 2}  \n3               0.5             0.5              {\"4317:4469\": 2}  \n4               0.0             0.5  {\"103:129\": 2, \"366:380\": 1}  ",
            "text/html": "<div>\n<style scoped>\n    .dataframe tbody tr th:only-of-type {\n        vertical-align: middle;\n    }\n\n    .dataframe tbody tr th {\n        vertical-align: top;\n    }\n\n    .dataframe thead th {\n        text-align: right;\n    }\n</style>\n<table border=\"1\" class=\"dataframe\">\n  <thead>\n    <tr style=\"text-align: right;\">\n      <th></th>\n      <th>story_id</th>\n      <th>question</th>\n      <th>answer_char_ranges</th>\n      <th>is_answer_absent</th>\n      <th>is_question_bad</th>\n      <th>validated_answers</th>\n    </tr>\n  </thead>\n  <tbody>\n    <tr>\n      <th>0</th>\n      <td>./cnn/stories/43a488c2d73b4f34122fc92c8df04670...</td>\n      <td>When was the plane crash?</td>\n      <td>2794:2805,372:382|398:410|372:382</td>\n      <td>0.0</td>\n      <td>0.0</td>\n      <td>{\"none\": 2}</td>\n    </tr>\n    <tr>\n      <th>1</th>\n      <td>./cnn/stories/91607b09ab00b8dff5d7b98387ed132a...</td>\n      <td>Where has Musharraf lived in exile?</td>\n      <td>1018:1035|1008:1035|1018:1035</td>\n      <td>0.0</td>\n      <td>0.0</td>\n      <td>NaN</td>\n    </tr>\n    <tr>\n      <th>2</th>\n      <td>./cnn/stories/c674fdceb339915df2a9de1a0bd3007c...</td>\n      <td>What is he leaving?</td>\n      <td>529:543|None|237:252</td>\n      <td>0.0</td>\n      <td>0.333333333333</td>\n      <td>{\"237:252\": 2}</td>\n    </tr>\n    <tr>\n      <th>3</th>\n      <td>./cnn/stories/a0c2d26c2ebecd53dcecc9ea04ae8c5a...</td>\n      <td>What should the president understand?</td>\n      <td>None|4317:4469</td>\n      <td>0.5</td>\n      <td>0.5</td>\n      <td>{\"4317:4469\": 2}</td>\n    </tr>\n    <tr>\n      <th>4</th>\n      <td>./cnn/stories/ad2af6c1362a3f84000edd71fd752ad6...</td>\n      <td>Bush commutes whose sentence?</td>\n      <td>103:129,366:380,384:397,92:103|None</td>\n      <td>0.0</td>\n      <td>0.5</td>\n      <td>{\"103:129\": 2, \"366:380\": 1}</td>\n    </tr>\n  </tbody>\n</table>\n</div>"
          },
          "metadata": {}
        }
      ],
      "execution_count": 2,
      "metadata": {
        "execution": {
          "iopub.execute_input": "2022-04-03T02:42:28.933864Z",
          "iopub.status.busy": "2022-04-03T02:42:28.933165Z",
          "iopub.status.idle": "2022-04-03T02:42:30.067706Z",
          "shell.execute_reply": "2022-04-03T02:42:30.066876Z",
          "shell.execute_reply.started": "2022-04-03T02:42:28.933835Z"
        },
        "gather": {
          "logged": 1649855186418
        }
      }
    },
    {
      "cell_type": "code",
      "source": [
        "# Size of the dataset\n",
        "len(data)"
      ],
      "outputs": [
        {
          "output_type": "execute_result",
          "execution_count": 3,
          "data": {
            "text/plain": "23927"
          },
          "metadata": {}
        }
      ],
      "execution_count": 3,
      "metadata": {
        "execution": {
          "iopub.execute_input": "2022-04-02T16:13:11.962630Z",
          "iopub.status.busy": "2022-04-02T16:13:11.962425Z",
          "iopub.status.idle": "2022-04-02T16:13:11.969096Z",
          "shell.execute_reply": "2022-04-02T16:13:11.968353Z",
          "shell.execute_reply.started": "2022-04-02T16:13:11.962607Z"
        },
        "gather": {
          "logged": 1649855187615
        }
      }
    },
    {
      "cell_type": "code",
      "source": [
        "# Convert to numeric and remove non-numeric rows\n",
        "data = data[pd.to_numeric(data['is_question_bad'], errors = 'coerce').notnull()]\n",
        "data['is_question_bad'] = data['is_question_bad'].astype(float)\n",
        "\n",
        "# Number of bad questions\n",
        "len(data[data['is_question_bad'] > 0])"
      ],
      "outputs": [
        {
          "output_type": "execute_result",
          "execution_count": 4,
          "data": {
            "text/plain": "4014"
          },
          "metadata": {}
        }
      ],
      "execution_count": 4,
      "metadata": {
        "execution": {
          "iopub.execute_input": "2022-04-03T02:42:35.734756Z",
          "iopub.status.busy": "2022-04-03T02:42:35.734484Z",
          "iopub.status.idle": "2022-04-03T02:42:35.777684Z",
          "shell.execute_reply": "2022-04-03T02:42:35.776873Z",
          "shell.execute_reply.started": "2022-04-03T02:42:35.734731Z"
        },
        "gather": {
          "logged": 1649855188451
        }
      }
    },
    {
      "cell_type": "code",
      "source": [
        "# Remove all bad questions/questions that don't make any sense\n",
        "data = data[data['is_question_bad'] == 0]\n",
        "data = data.reset_index(drop = True)"
      ],
      "outputs": [],
      "execution_count": 5,
      "metadata": {
        "execution": {
          "iopub.execute_input": "2022-04-03T02:42:37.688361Z",
          "iopub.status.busy": "2022-04-03T02:42:37.687313Z",
          "iopub.status.idle": "2022-04-03T02:42:37.707555Z",
          "shell.execute_reply": "2022-04-03T02:42:37.706730Z",
          "shell.execute_reply.started": "2022-04-03T02:42:37.688291Z"
        },
        "gather": {
          "logged": 1649855188928
        }
      }
    },
    {
      "cell_type": "code",
      "source": [
        "# Final data size\n",
        "len(data)"
      ],
      "outputs": [
        {
          "output_type": "execute_result",
          "execution_count": 6,
          "data": {
            "text/plain": "17546"
          },
          "metadata": {}
        }
      ],
      "execution_count": 6,
      "metadata": {
        "execution": {
          "iopub.execute_input": "2022-04-03T02:42:38.779570Z",
          "iopub.status.busy": "2022-04-03T02:42:38.779313Z",
          "iopub.status.idle": "2022-04-03T02:42:38.785041Z",
          "shell.execute_reply": "2022-04-03T02:42:38.784367Z",
          "shell.execute_reply.started": "2022-04-03T02:42:38.779545Z"
        },
        "gather": {
          "logged": 1649855189781
        }
      }
    },
    {
      "cell_type": "code",
      "source": [
        "# Answer statistics\n",
        "fig, ax = plt.subplots(ncols = 2, figsize = (20, 6))\n",
        "\n",
        "atleast_one_no_ans = len(data[data['is_answer_absent'] != 0])\n",
        "sizes1 = [atleast_one_no_ans, len(data) - atleast_one_no_ans]\n",
        "labels1 = ['Atleast one said there\\'s no answer', 'Everyone said there\\'s an answer']\n",
        "ax[0].pie(sizes1, labels = labels1, autopct = '%1.0f%%', pctdistance = 0.5, labeldistance = 1.1)\n",
        "\n",
        "all_no_ans = len(data[data['is_answer_absent'] == 1])\n",
        "sizes2 = [all_no_ans, len(data) - all_no_ans]\n",
        "labels2 = ['Everyone said there\\'s no answer', 'Atleast one gave an answer']\n",
        "ax[1].pie(sizes2, labels = labels2, autopct = '%1.0f%%', pctdistance = 0.5, labeldistance = 1.1)\n",
        "\n",
        "plt.show()"
      ],
      "outputs": [
        {
          "output_type": "display_data",
          "data": {
            "text/plain": "<Figure size 1440x432 with 2 Axes>",
            "image/png": "[encoded data removed]"
          },
          "metadata": {}
        }
      ],
      "execution_count": 7,
      "metadata": {
        "execution": {
          "iopub.execute_input": "2022-04-02T16:13:12.028079Z",
          "iopub.status.busy": "2022-04-02T16:13:12.027922Z",
          "iopub.status.idle": "2022-04-02T16:13:12.181012Z",
          "shell.execute_reply": "2022-04-02T16:13:12.180209Z",
          "shell.execute_reply.started": "2022-04-02T16:13:12.028059Z"
        },
        "gather": {
          "logged": 1649855191007
        }
      }
    },
    {
      "cell_type": "code",
      "source": [
        "# Precentage of questions that have validated answers\n",
        "100*data['validated_answers'].isnull().sum()/len(data)"
      ],
      "outputs": [
        {
          "output_type": "execute_result",
          "execution_count": 8,
          "data": {
            "text/plain": "55.95577339564573"
          },
          "metadata": {}
        }
      ],
      "execution_count": 8,
      "metadata": {
        "execution": {
          "iopub.execute_input": "2022-04-03T02:42:44.649072Z",
          "iopub.status.busy": "2022-04-03T02:42:44.648764Z",
          "iopub.status.idle": "2022-04-03T02:42:44.659332Z",
          "shell.execute_reply": "2022-04-03T02:42:44.658703Z",
          "shell.execute_reply.started": "2022-04-03T02:42:44.649018Z"
        },
        "gather": {
          "logged": 1649855191829
        }
      }
    },
    {
      "cell_type": "code",
      "source": [
        "# Word counts in questions\n",
        "cv = CountVectorizer(stop_words = ['the', 'is', 'was', 'of', 'to', 'in'])\n",
        "dtm = cv.fit_transform(data['question']).toarray()\n",
        "\n",
        "word_counts = dtm.sum(axis = 0)"
      ],
      "outputs": [],
      "execution_count": 9,
      "metadata": {
        "execution": {
          "iopub.execute_input": "2022-04-03T02:42:50.590794Z",
          "iopub.status.busy": "2022-04-03T02:42:50.590540Z",
          "iopub.status.idle": "2022-04-03T02:42:52.307544Z",
          "shell.execute_reply": "2022-04-03T02:42:52.306550Z",
          "shell.execute_reply.started": "2022-04-03T02:42:50.590768Z"
        },
        "gather": {
          "logged": 1649855192338
        }
      }
    },
    {
      "cell_type": "code",
      "source": [
        "# Plotting top 5 words\n",
        "fig, ax = plt.subplots(figsize = (8, 5))\n",
        "\n",
        "sorted_idx = np.argsort(word_counts)[::-1]\n",
        "vocab = np.array(cv.get_feature_names())\n",
        "\n",
        "top_words_idx = sorted_idx[:5]\n",
        "plt.bar(x = vocab[top_words_idx], height = word_counts[top_words_idx])\n",
        "\n",
        "for i in range(len(top_words_idx)):\n",
        "    plt.text(x = i - 0.2, y = word_counts[top_words_idx[i]] + 3, s = word_counts[top_words_idx[i]])\n",
        "\n",
        "plt.show()"
      ],
      "outputs": [
        {
          "output_type": "display_data",
          "data": {
            "text/plain": "<Figure size 576x360 with 1 Axes>",
            "image/png": "[encoded data removed]"
          },
          "metadata": {}
        }
      ],
      "execution_count": 10,
      "metadata": {
        "execution": {
          "iopub.execute_input": "2022-04-02T16:13:13.840096Z",
          "iopub.status.busy": "2022-04-02T16:13:13.839300Z",
          "iopub.status.idle": "2022-04-02T16:13:13.979396Z",
          "shell.execute_reply": "2022-04-02T16:13:13.978905Z",
          "shell.execute_reply.started": "2022-04-02T16:13:13.840067Z"
        },
        "gather": {
          "logged": 1649855192951
        }
      }
    },
    {
      "cell_type": "code",
      "source": [
        "# Removing the path and keeping just the file name in story_id\n",
        "data['story_id'] = data['story_id'].apply(lambda x: x.split('/')[-1].split('.')[0])"
      ],
      "outputs": [],
      "execution_count": 11,
      "metadata": {
        "execution": {
          "iopub.execute_input": "2022-04-03T02:42:54.815702Z",
          "iopub.status.busy": "2022-04-03T02:42:54.814713Z",
          "iopub.status.idle": "2022-04-03T02:42:54.843362Z",
          "shell.execute_reply": "2022-04-03T02:42:54.842704Z",
          "shell.execute_reply.started": "2022-04-03T02:42:54.815632Z"
        },
        "gather": {
          "logged": 1649855193665
        }
      }
    },
    {
      "cell_type": "markdown",
      "source": [
        "## Data Cleaning"
      ],
      "metadata": {}
    },
    {
      "cell_type": "code",
      "source": [
        "# We don't need is_answer_absent and is_question_bad columns\n",
        "data = data.drop(['is_answer_absent', 'is_question_bad'], axis = 1)"
      ],
      "outputs": [],
      "execution_count": 12,
      "metadata": {
        "execution": {
          "iopub.execute_input": "2022-04-03T02:42:57.844760Z",
          "iopub.status.busy": "2022-04-03T02:42:57.844524Z",
          "iopub.status.idle": "2022-04-03T02:42:57.855200Z",
          "shell.execute_reply": "2022-04-03T02:42:57.854289Z",
          "shell.execute_reply.started": "2022-04-03T02:42:57.844737Z"
        },
        "gather": {
          "logged": 1649855194735
        }
      }
    },
    {
      "cell_type": "code",
      "source": [
        "# Reading stories\n",
        "NEWS_STORIES = utils.open_pickle('../data/news_stories.pkl')"
      ],
      "outputs": [],
      "execution_count": 13,
      "metadata": {
        "execution": {
          "iopub.execute_input": "2022-04-03T02:42:59.074775Z",
          "iopub.status.busy": "2022-04-03T02:42:59.074505Z",
          "iopub.status.idle": "2022-04-03T02:43:01.196262Z",
          "shell.execute_reply": "2022-04-03T02:43:01.195456Z",
          "shell.execute_reply.started": "2022-04-03T02:42:59.074736Z"
        },
        "gather": {
          "logged": 1649855197844
        }
      }
    },
    {
      "cell_type": "code",
      "source": [
        "def adjust_answer_range(story_id, answer_range):\n",
        "\n",
        "    # If answer is not available, denote it as -1\n",
        "    if answer_range == 'None':\n",
        "        return [-1, -1]\n",
        "    \n",
        "    story = NEWS_STORIES[story_id]\n",
        "    \n",
        "    # Check for errors in answer\n",
        "    if len(answer_range.split(':')) == 1:\n",
        "        return [-1, -1]\n",
        "    \n",
        "    start_idx, end_idx = answer_range.split(':')\n",
        "    start_idx, end_idx = int(start_idx), int(end_idx)\n",
        "    \n",
        "    # Moves back start_idx to the start of a word\n",
        "    while start_idx != 0 and not utils.is_whitespace(story[start_idx - 1]) and not utils.is_punct(story[start_idx - 1]):\n",
        "        start_idx = start_idx - 1\n",
        "    \n",
        "    # Some ranges end with a punctuation or a whitespace\n",
        "    if utils.is_whitespace(story[end_idx - 1]) or utils.is_punct(story[end_idx - 1]):\n",
        "        end_idx = end_idx - 1\n",
        "    \n",
        "    # Moves end_idx to the end of a word\n",
        "    while not utils.is_whitespace(story[end_idx]) and not utils.is_punct(story[end_idx + 1]):\n",
        "        end_idx = end_idx + 1\n",
        "        \n",
        "    # There are some answers with \\n at the end followed by a letter\n",
        "    # The answer will not be in two different paragraphs\n",
        "    answer_text = story[start_idx:end_idx]\n",
        "    answer_para = re.split('\\n', answer_text)\n",
        "    \n",
        "    if len(answer_para[-1]) > len(answer_para[0]):\n",
        "        start_idx = end_idx - len(answer_para[-1])\n",
        "        answer_text = answer_para[-1]\n",
        "    else:\n",
        "        end_idx = start_idx + len(answer_para[0])\n",
        "        answer_text = answer_para[0]\n",
        "    \n",
        "    return [start_idx, end_idx]"
      ],
      "outputs": [],
      "execution_count": 14,
      "metadata": {
        "execution": {
          "iopub.execute_input": "2022-04-03T02:43:02.494062Z",
          "iopub.status.busy": "2022-04-03T02:43:02.493478Z",
          "iopub.status.idle": "2022-04-03T02:43:02.502863Z",
          "shell.execute_reply": "2022-04-03T02:43:02.501879Z",
          "shell.execute_reply.started": "2022-04-03T02:43:02.494034Z"
        },
        "gather": {
          "logged": 1649855199313
        }
      }
    },
    {
      "cell_type": "code",
      "source": [
        "def get_answer(qa_details):\n",
        "\n",
        "    # If validated answers are available, select the one with most votes\n",
        "    if qa_details['validated_answers'] is not np.nan:\n",
        "        validated_answers = eval(qa_details['validated_answers'])\n",
        "        \n",
        "        # Get the answers with maximum votes\n",
        "        max_vote_ans = utils.get_max_keys(validated_answers)\n",
        "        \n",
        "        # Check for ties\n",
        "        if len(max_vote_ans) == 1:\n",
        "            return adjust_answer_range(qa_details['story_id'], max_vote_ans[0])\n",
        "    \n",
        "    # If validated answers are not available or if there is a tie in validated answers\n",
        "    # Get all available answers\n",
        "    answers = re.split(',|\\|', qa_details['answer_char_ranges'])\n",
        "    \n",
        "    # If there is just one answer\n",
        "    if len(answers) == 1:\n",
        "        return adjust_answer_range(qa_details['story_id'], answers[0])\n",
        "    \n",
        "    # Get counts of each answer\n",
        "    answer_freq = utils.get_frequency(answers)\n",
        "    max_vote_ans = utils.get_max_keys(answer_freq)\n",
        "    \n",
        "    if len(max_vote_ans) == 1:\n",
        "        return adjust_answer_range(qa_details['story_id'], max_vote_ans[0])\n",
        "    \n",
        "    # If there is a tie for multiple answers, return a random answer\n",
        "    return adjust_answer_range(qa_details['story_id'], random.choice(answers))"
      ],
      "outputs": [],
      "execution_count": 15,
      "metadata": {
        "execution": {
          "iopub.execute_input": "2022-04-03T02:43:06.200702Z",
          "iopub.status.busy": "2022-04-03T02:43:06.199575Z",
          "iopub.status.idle": "2022-04-03T02:43:06.209124Z",
          "shell.execute_reply": "2022-04-03T02:43:06.208164Z",
          "shell.execute_reply.started": "2022-04-03T02:43:06.200621Z"
        },
        "gather": {
          "logged": 1649855207106
        }
      }
    },
    {
      "cell_type": "code",
      "source": [
        "# Select one answer range among multiple answers\n",
        "data[['start_idx', 'end_idx']] = data.apply(get_answer, axis = 1, result_type = 'expand')"
      ],
      "outputs": [],
      "execution_count": 16,
      "metadata": {
        "execution": {
          "iopub.execute_input": "2022-04-03T02:43:08.590271Z",
          "iopub.status.busy": "2022-04-03T02:43:08.589990Z",
          "iopub.status.idle": "2022-04-03T02:43:11.062493Z",
          "shell.execute_reply": "2022-04-03T02:43:11.061623Z",
          "shell.execute_reply.started": "2022-04-03T02:43:08.590229Z"
        },
        "gather": {
          "logged": 1649855213861
        }
      }
    },
    {
      "cell_type": "code",
      "source": [
        "data.sample(n = 5)"
      ],
      "outputs": [
        {
          "output_type": "execute_result",
          "execution_count": 17,
          "data": {
            "text/plain": "                                      story_id  \\\n9173  82b7ee7b2e3f721b26cf61dac7821000f784ef5d   \n6421  aa5421e54f99497916aaf74801f3c1d309600000   \n6325  d78e32117e1617dc8a6361fe3492d87cad75fbbc   \n1719  b1e12b5e79ddcd893c69e4bd32a560c6a5dd59ef   \n2536  38faba9f673aa5dde55760e0c77d1b347885ae54   \n\n                                              question  \\\n9173                       Will Bush's policies stand?   \n6421  Clarkson's voice is made for what kind of songs?   \n6325                 What is the name of the movement?   \n1719             Where will a Monday event take place?   \n2536           When did the Brazil royal family begin?   \n\n                                     answer_char_ranges  \\\n9173  469:486,495:513,519:548|495:513,519:538|469:48...   \n6421                                1616:1625|1616:1625   \n6325                            76:95|1865:1888|238:242   \n1719                                    813:825|813:825   \n2536                                  622:628|None|None   \n\n                 validated_answers  start_idx  end_idx  \n9173                           NaN        491      514  \n6421                           NaN       1613     1629  \n6325  {\"76:95\": 1, \"1865:1888\": 2}       1864     1889  \n1719                           NaN        811      825  \n2536                           NaN         -1       -1  ",
            "text/html": "<div>\n<style scoped>\n    .dataframe tbody tr th:only-of-type {\n        vertical-align: middle;\n    }\n\n    .dataframe tbody tr th {\n        vertical-align: top;\n    }\n\n    .dataframe thead th {\n        text-align: right;\n    }\n</style>\n<table border=\"1\" class=\"dataframe\">\n  <thead>\n    <tr style=\"text-align: right;\">\n      <th></th>\n      <th>story_id</th>\n      <th>question</th>\n      <th>answer_char_ranges</th>\n      <th>validated_answers</th>\n      <th>start_idx</th>\n      <th>end_idx</th>\n    </tr>\n  </thead>\n  <tbody>\n    <tr>\n      <th>9173</th>\n      <td>82b7ee7b2e3f721b26cf61dac7821000f784ef5d</td>\n      <td>Will Bush's policies stand?</td>\n      <td>469:486,495:513,519:548|495:513,519:538|469:48...</td>\n      <td>NaN</td>\n      <td>491</td>\n      <td>514</td>\n    </tr>\n    <tr>\n      <th>6421</th>\n      <td>aa5421e54f99497916aaf74801f3c1d309600000</td>\n      <td>Clarkson's voice is made for what kind of songs?</td>\n      <td>1616:1625|1616:1625</td>\n      <td>NaN</td>\n      <td>1613</td>\n      <td>1629</td>\n    </tr>\n    <tr>\n      <th>6325</th>\n      <td>d78e32117e1617dc8a6361fe3492d87cad75fbbc</td>\n      <td>What is the name of the movement?</td>\n      <td>76:95|1865:1888|238:242</td>\n      <td>{\"76:95\": 1, \"1865:1888\": 2}</td>\n      <td>1864</td>\n      <td>1889</td>\n    </tr>\n    <tr>\n      <th>1719</th>\n      <td>b1e12b5e79ddcd893c69e4bd32a560c6a5dd59ef</td>\n      <td>Where will a Monday event take place?</td>\n      <td>813:825|813:825</td>\n      <td>NaN</td>\n      <td>811</td>\n      <td>825</td>\n    </tr>\n    <tr>\n      <th>2536</th>\n      <td>38faba9f673aa5dde55760e0c77d1b347885ae54</td>\n      <td>When did the Brazil royal family begin?</td>\n      <td>622:628|None|None</td>\n      <td>NaN</td>\n      <td>-1</td>\n      <td>-1</td>\n    </tr>\n  </tbody>\n</table>\n</div>"
          },
          "metadata": {}
        }
      ],
      "execution_count": 17,
      "metadata": {
        "execution": {
          "iopub.execute_input": "2022-04-03T02:43:12.944396Z",
          "iopub.status.busy": "2022-04-03T02:43:12.944078Z",
          "iopub.status.idle": "2022-04-03T02:43:12.957556Z",
          "shell.execute_reply": "2022-04-03T02:43:12.956920Z",
          "shell.execute_reply.started": "2022-04-03T02:43:12.944345Z"
        },
        "gather": {
          "logged": 1649855216995
        }
      }
    },
    {
      "cell_type": "code",
      "source": [
        "# Total examples in the dataset\n",
        "total_examples = len(data)"
      ],
      "outputs": [],
      "execution_count": 18,
      "metadata": {
        "execution": {
          "iopub.execute_input": "2022-04-03T02:43:17.161365Z",
          "iopub.status.busy": "2022-04-03T02:43:17.161110Z",
          "iopub.status.idle": "2022-04-03T02:43:17.165352Z",
          "shell.execute_reply": "2022-04-03T02:43:17.164686Z",
          "shell.execute_reply.started": "2022-04-03T02:43:17.161340Z"
        },
        "gather": {
          "logged": 1649855221758
        }
      }
    },
    {
      "cell_type": "code",
      "source": [
        "pred_start,pred_end"
      ],
      "outputs": [
        {
          "output_type": "execute_result",
          "execution_count": 37,
          "data": {
            "text/plain": "(374, 454)"
          },
          "metadata": {}
        }
      ],
      "execution_count": 37,
      "metadata": {
        "jupyter": {
          "source_hidden": false,
          "outputs_hidden": false
        },
        "nteract": {
          "transient": {
            "deleting": false
          }
        },
        "gather": {
          "logged": 1649857071332
        }
      }
    },
    {
      "cell_type": "code",
      "source": [
        "pred_start,pred_end"
      ],
      "outputs": [
        {
          "output_type": "execute_result",
          "execution_count": 43,
          "data": {
            "text/plain": "(1918, 2000)"
          },
          "metadata": {}
        }
      ],
      "execution_count": 43,
      "metadata": {
        "jupyter": {
          "source_hidden": false,
          "outputs_hidden": false
        },
        "nteract": {
          "transient": {
            "deleting": false
          }
        },
        "gather": {
          "logged": 1649857143399
        }
      }
    },
    {
      "cell_type": "markdown",
      "source": [
        "## BERT model"
      ],
      "metadata": {}
    },
    {
      "cell_type": "code",
      "source": [
        "def get_examples():\n",
        "    '''\n",
        "    Return a list of NewsQaExample objects\n",
        "    '''\n",
        "    # If a pickle file exists for examples, read the file\n",
        "    if os.path.isfile('../data/examples_sample.pkl'):\n",
        "        return utils.open_pickle('../data/examples_sample.pkl')\n",
        "    \n",
        "    examples = []\n",
        "\n",
        "    for idx, row in data.iterrows():\n",
        "        ex = NewsQaExample(NEWS_STORIES[row['story_id']], row['question'], row['start_idx'], row['end_idx'])\n",
        "        examples.append(ex)\n",
        "        utils.drawProgressBar(idx + 1, total_examples)\n",
        "    print('\\n')\n",
        "    # Saving examples to a pickle file\n",
        "    utils.save_pickle('../data/examples_sample.pkl', examples)\n",
        "    \n",
        "    return examples"
      ],
      "outputs": [],
      "execution_count": 43,
      "metadata": {
        "execution": {
          "iopub.execute_input": "2022-04-03T02:43:34.419476Z",
          "iopub.status.busy": "2022-04-03T02:43:34.419242Z",
          "iopub.status.idle": "2022-04-03T02:43:34.424592Z",
          "shell.execute_reply": "2022-04-03T02:43:34.423821Z",
          "shell.execute_reply.started": "2022-04-03T02:43:34.419453Z"
        },
        "gather": {
          "logged": 1649835208976
        }
      }
    },
    {
      "cell_type": "code",
      "source": [
        "def get_datasets(examples, tokenizer_name):\n",
        "  \n",
        "    model_name = tokenizer_name.split('-')[0]\n",
        "    \n",
        "    if os.path.isfile('../data/sample_dataset_' + model_name + '.pkl'):\n",
        "        return utils.open_pickle('../data/sample_dataset_' + model_name + '.pkl')\n",
        "    \n",
        "    features = []\n",
        "    labels = []\n",
        "    \n",
        "    if tokenizer_name == 'bert-large-uncased-whole-word-masking-finetuned-squad':\n",
        "        tokenizer = BertTokenizer.from_pretrained(tokenizer_name)\n",
        "    \n",
        "    if tokenizer_name == 'distilbert-base-uncased-distilled-squad':\n",
        "        tokenizer = DistilBertTokenizer.from_pretrained(tokenizer_name)\n",
        "    \n",
        "    print(\"Getting input features:\")\n",
        "    for idx, ex in enumerate(examples):\n",
        "        input_features = ex.encode_plus(tokenizer, pad = True)\n",
        "        features.append(input_features)\n",
        "        labels.append(ex.get_label())\n",
        "        utils.drawProgressBar(idx + 1, total_examples)\n",
        "    \n",
        "    print('\\n')\n",
        "    # Getting TensorDataset\n",
        "    train_set, val_set, test_set, feature_idx_map = create_dataset(features, labels, model = model_name)\n",
        "    # Saving the dataset in a file\n",
        "    utils.save_pickle('../data/sample_dataset_' + model_name + '.pkl', (train_set, val_set, test_set, feature_idx_map))\n",
        "    \n",
        "    return (train_set, val_set, test_set, feature_idx_map)"
      ],
      "outputs": [],
      "execution_count": 44,
      "metadata": {
        "execution": {
          "iopub.execute_input": "2022-04-03T02:43:37.589497Z",
          "iopub.status.busy": "2022-04-03T02:43:37.589245Z",
          "iopub.status.idle": "2022-04-03T02:43:37.596934Z",
          "shell.execute_reply": "2022-04-03T02:43:37.596055Z",
          "shell.execute_reply.started": "2022-04-03T02:43:37.589472Z"
        },
        "gather": {
          "logged": 1649835211637
        }
      }
    },
    {
      "cell_type": "code",
      "source": [
        "def get_dataloaders(train_set, val_set, test_set, batch_size):\n",
        "    '''\n",
        "    Creates torch dataloaders for train, validation and test sets\n",
        "    '''\n",
        "    train_loader = DataLoader(train_set, batch_size = BATCH_SIZE, \n",
        "                          sampler = RandomSampler(train_set))\n",
        "\n",
        "    val_loader = DataLoader(val_set, batch_size = BATCH_SIZE, \n",
        "                            sampler = SequentialSampler(val_set))\n",
        "\n",
        "    test_loader = DataLoader(test_set, batch_size = BATCH_SIZE, \n",
        "                             sampler = SequentialSampler(test_set))\n",
        "    \n",
        "    return train_loader, val_loader, test_loader"
      ],
      "outputs": [],
      "execution_count": 45,
      "metadata": {
        "execution": {
          "iopub.execute_input": "2022-04-03T02:43:39.669513Z",
          "iopub.status.busy": "2022-04-03T02:43:39.669275Z",
          "iopub.status.idle": "2022-04-03T02:43:39.674470Z",
          "shell.execute_reply": "2022-04-03T02:43:39.673622Z",
          "shell.execute_reply.started": "2022-04-03T02:43:39.669489Z"
        },
        "gather": {
          "logged": 1649835215951
        }
      }
    },
    {
      "cell_type": "code",
      "source": [
        "def finetune_model(model_name, train_loader, val_loader, feature_idx_map, device, \n",
        "                   epochs = 1, learning_rate = 1e-5):\n",
        "    '''\n",
        "    Fine-tunes a pretrained model\n",
        "    '''\n",
        "    if model_name == 'bert-large-uncased-whole-word-masking-finetuned-squad':\n",
        "        model = BertForQuestionAnswering.from_pretrained(model_name)\n",
        "        # Freezing bert parameters\n",
        "        for param in model.bert.parameters():\n",
        "            param.requires_grad = False\n",
        "    \n",
        "    if model_name == 'distilbert-base-uncased-distilled-squad':\n",
        "        model = DistilBertForQuestionAnswering.from_pretrained(model_name)\n",
        "        # Freezing distilbert parameters\n",
        "        for param in model.distilbert.parameters():\n",
        "            param.requires_grad = False\n",
        "        \n",
        "    short_name = model_name.split('-')[0]\n",
        "    \n",
        "    newsqa_model = NewsQaModel(model)\n",
        "    newsqa_model.train(train_loader, val_loader, feature_idx_map, device, \n",
        "                       num_epochs = epochs, lr = learning_rate, \n",
        "                       filename = '../data/' + short_name + '_sample.pt')\n",
        "    \n",
        "    return newsqa_model"
      ],
      "outputs": [],
      "execution_count": 46,
      "metadata": {
        "execution": {
          "iopub.execute_input": "2022-04-03T02:43:41.694075Z",
          "iopub.status.busy": "2022-04-03T02:43:41.693793Z",
          "iopub.status.idle": "2022-04-03T02:43:41.702029Z",
          "shell.execute_reply": "2022-04-03T02:43:41.700649Z",
          "shell.execute_reply.started": "2022-04-03T02:43:41.694047Z"
        },
        "gather": {
          "logged": 1649835220748
        }
      }
    },
    {
      "cell_type": "code",
      "source": [
        "# Get a list of NewsQaExample objects\n",
        "examples = get_examples()"
      ],
      "outputs": [
        {
          "output_type": "stream",
          "name": "stdout",
          "text": "Progress: [====================] 17546/17546\n\nVariable successfully saved in ../data/examples_sample.pkl\n"
        }
      ],
      "execution_count": 28,
      "metadata": {
        "execution": {
          "iopub.execute_input": "2022-04-03T02:43:44.151626Z",
          "iopub.status.busy": "2022-04-03T02:43:44.151358Z",
          "iopub.status.idle": "2022-04-03T02:44:02.332658Z",
          "shell.execute_reply": "2022-04-03T02:44:02.332070Z",
          "shell.execute_reply.started": "2022-04-03T02:43:44.151587Z"
        },
        "gather": {
          "logged": 1649823990078
        }
      }
    },
    {
      "cell_type": "markdown",
      "source": [
        "### BERT"
      ],
      "metadata": {}
    },
    {
      "cell_type": "code",
      "source": [
        "# Defining model name\n",
        "bert_model_name = 'bert-large-uncased-whole-word-masking-finetuned-squad'"
      ],
      "outputs": [],
      "execution_count": 29,
      "metadata": {
        "execution": {
          "iopub.execute_input": "2022-04-03T02:44:02.340065Z",
          "iopub.status.busy": "2022-04-03T02:44:02.339815Z",
          "iopub.status.idle": "2022-04-03T02:44:02.346823Z",
          "shell.execute_reply": "2022-04-03T02:44:02.346216Z",
          "shell.execute_reply.started": "2022-04-03T02:44:02.340041Z"
        },
        "gather": {
          "logged": 1649824081797
        }
      }
    },
    {
      "cell_type": "code",
      "source": [
        "# Getting the training, validation and test sets\n",
        "bert_datasets = get_datasets(examples, bert_model_name)\n",
        "bert_train_set, bert_val_set, bert_test_set, bert_feature_idx_map = bert_datasets"
      ],
      "outputs": [
        {
          "output_type": "stream",
          "name": "stdout",
          "text": "Getting input features:\nProgress: [====================] 17546/17546\n\nVariable successfully saved in ../data/sample_dataset_bert.pkl\n"
        }
      ],
      "execution_count": 31,
      "metadata": {
        "execution": {
          "iopub.execute_input": "2022-04-03T02:45:09.634867Z",
          "iopub.status.busy": "2022-04-03T02:45:09.634606Z",
          "iopub.status.idle": "2022-04-03T03:08:37.924653Z",
          "shell.execute_reply": "2022-04-03T03:08:37.924107Z",
          "shell.execute_reply.started": "2022-04-03T02:45:09.634844Z"
        },
        "gather": {
          "logged": 1649824809522
        }
      }
    },
    {
      "cell_type": "code",
      "source": [
        "# Getting data loaders\n",
        "BATCH_SIZE = 32\n",
        "\n",
        "bert_loaders = get_dataloaders(bert_train_set, bert_val_set, bert_test_set, batch_size = BATCH_SIZE)\n",
        "bert_train_loader, bert_val_loader, bert_test_loader = bert_loaders"
      ],
      "outputs": [],
      "execution_count": 32,
      "metadata": {
        "execution": {
          "iopub.execute_input": "2022-04-03T03:08:37.950499Z",
          "iopub.status.busy": "2022-04-03T03:08:37.950065Z",
          "iopub.status.idle": "2022-04-03T03:08:37.963736Z",
          "shell.execute_reply": "2022-04-03T03:08:37.963062Z",
          "shell.execute_reply.started": "2022-04-03T03:08:37.950463Z"
        },
        "gather": {
          "logged": 1649824906402
        }
      }
    },
    {
      "cell_type": "code",
      "source": [
        "bert_val_set"
      ],
      "outputs": [
        {
          "output_type": "execute_result",
          "execution_count": 35,
          "data": {
            "text/plain": "<torch.utils.data.dataset.Subset at 0x7f40dc37d400>"
          },
          "metadata": {}
        }
      ],
      "execution_count": 35,
      "metadata": {
        "jupyter": {
          "source_hidden": false,
          "outputs_hidden": false
        },
        "nteract": {
          "transient": {
            "deleting": false
          }
        },
        "gather": {
          "logged": 1649824969474
        }
      }
    },
    {
      "cell_type": "code",
      "source": [
        "\n",
        "EPOCHS = 0\n",
        "LEARNING_RATE = 0.001\n",
        "\n",
        "bert_model = finetune_model(bert_model_name, bert_train_loader, bert_val_loader, bert_feature_idx_map, \n",
        "                            device, epochs = EPOCHS, learning_rate = LEARNING_RATE)"
      ],
      "outputs": [
        {
          "output_type": "display_data",
          "data": {
            "application/vnd.jupyter.widget-view+json": {
              "model_id": "5437a88663bb4c638e5dde8ec33ce725",
              "version_major": 2,
              "version_minor": 0
            },
            "text/plain": "Downloading:   0%|          | 0.00/443 [00:00<?, ?B/s]"
          },
          "metadata": {}
        },
        {
          "output_type": "display_data",
          "data": {
            "application/vnd.jupyter.widget-view+json": {
              "model_id": "15e64daef1a247f19a1f977154c86232",
              "version_major": 2,
              "version_minor": 0
            },
            "text/plain": "Downloading:   0%|          | 0.00/1.34G [00:00<?, ?B/s]"
          },
          "metadata": {}
        }
      ],
      "execution_count": 31,
      "metadata": {
        "execution": {
          "iopub.execute_input": "2022-04-03T03:08:37.964920Z",
          "iopub.status.busy": "2022-04-03T03:08:37.964735Z",
          "iopub.status.idle": "2022-04-03T03:10:50.465068Z",
          "shell.execute_reply": "2022-04-03T03:10:50.464208Z",
          "shell.execute_reply.started": "2022-04-03T03:08:37.964896Z"
        }
      }
    },
    {
      "cell_type": "code",
      "source": [
        "# Evaluation the performance on test set\n",
        "bert_model.load('../data/bert_model.pt')\n",
        "bert_eval_metrics = bert_model.evaluate(bert_test_loader, bert_feature_idx_map, 'cpu')"
      ],
      "outputs": [],
      "execution_count": null,
      "metadata": {
        "execution": {
          "iopub.execute_input": "2022-04-03T03:57:28.583497Z",
          "iopub.status.busy": "2022-04-03T03:57:28.583240Z"
        }
      }
    },
    {
      "cell_type": "code",
      "source": [
        "# Evalutating performance on the model without fine-tuining\n",
        "bert_non_finetuned = BertForQuestionAnswering.from_pretrained(bert_model_name)\n",
        "bert_non_finetuned.to(device)\n",
        "\n",
        "bert_newsqa_model = NewsQaModel(bert_non_finetuned)\n",
        "\n",
        "non_finetuned_eval_metrics = bert_newsqa_model.evaluate(bert_test_loader, bert_feature_idx_map, device)"
      ],
      "outputs": [],
      "execution_count": null,
      "metadata": {
        "execution": {
          "iopub.status.busy": "2022-04-02T16:13:42.192043Z",
          "iopub.status.idle": "2022-04-02T16:13:42.192302Z",
          "shell.execute_reply": "2022-04-02T16:13:42.192181Z",
          "shell.execute_reply.started": "2022-04-02T16:13:42.192165Z"
        }
      }
    },
    {
      "cell_type": "markdown",
      "source": [
        "### DistilBERT"
      ],
      "metadata": {}
    },
    {
      "cell_type": "code",
      "source": [
        "# Defining model name\n",
        "dbert_model_name = 'distilbert-base-uncased-distilled-squad'"
      ],
      "outputs": [],
      "execution_count": 30,
      "metadata": {
        "execution": {
          "iopub.execute_input": "2022-04-02T16:14:14.001381Z",
          "iopub.status.busy": "2022-04-02T16:14:14.000737Z",
          "iopub.status.idle": "2022-04-02T16:14:14.004349Z",
          "shell.execute_reply": "2022-04-02T16:14:14.003876Z",
          "shell.execute_reply.started": "2022-04-02T16:14:14.001356Z"
        }
      }
    },
    {
      "cell_type": "code",
      "source": [
        "# Getting the training, validation and test sets\n",
        "dbert_datasets = get_datasets(examples, dbert_model_name)\n",
        "dbert_train_set, dbert_val_set, dbert_test_set, dbert_feature_idx_map = dbert_datasets"
      ],
      "outputs": [
        {
          "output_type": "display_data",
          "data": {
            "application/vnd.jupyter.widget-view+json": {
              "model_id": "987a33e2f8bc4dfb9337d837b0bffa74",
              "version_major": 2,
              "version_minor": 0
            },
            "text/plain": "Downloading:   0%|          | 0.00/232k [00:00<?, ?B/s]"
          },
          "metadata": {}
        },
        {
          "output_type": "stream",
          "name": "stdout",
          "text": "Getting input features:\nProgress: [====================] 35033/35033\n\nVariable successfully saved in ../data/sample_dataset_distilbert.pkl\n"
        }
      ],
      "execution_count": 33,
      "metadata": {
        "execution": {
          "iopub.execute_input": "2022-04-02T16:14:34.578497Z",
          "iopub.status.busy": "2022-04-02T16:14:34.578162Z",
          "iopub.status.idle": "2022-04-02T16:35:26.149694Z",
          "shell.execute_reply": "2022-04-02T16:35:26.148581Z",
          "shell.execute_reply.started": "2022-04-02T16:14:34.578466Z"
        },
        "scrolled": true
      }
    },
    {
      "cell_type": "code",
      "source": [
        "# Getting data loaders\n",
        "BATCH_SIZE = 64\n",
        "\n",
        "dbert_loaders = get_dataloaders(dbert_train_set, dbert_val_set, dbert_test_set, batch_size = BATCH_SIZE)\n",
        "dbert_train_loader, dbert_val_loader, dbert_test_loader = dbert_loaders"
      ],
      "outputs": [],
      "execution_count": 34,
      "metadata": {
        "execution": {
          "iopub.execute_input": "2022-04-02T16:35:41.631978Z",
          "iopub.status.busy": "2022-04-02T16:35:41.631666Z",
          "iopub.status.idle": "2022-04-02T16:35:41.637965Z",
          "shell.execute_reply": "2022-04-02T16:35:41.636970Z",
          "shell.execute_reply.started": "2022-04-02T16:35:41.631947Z"
        }
      }
    },
    {
      "cell_type": "code",
      "source": [
        "EPOCHS = 3\n",
        "LEARNING_RATE = 0.001\n",
        "\n",
        "dbert_model = finetune_model(dbert_model_name, dbert_train_loader, dbert_val_loader, dbert_feature_idx_map, \n",
        "                             device, epochs = EPOCHS, learning_rate = LEARNING_RATE)"
      ],
      "outputs": [
        {
          "output_type": "display_data",
          "data": {
            "application/vnd.jupyter.widget-view+json": {
              "model_id": "1650cb30f01845e684fa91bdb6a32a33",
              "version_major": 2,
              "version_minor": 0
            },
            "text/plain": "Downloading:   0%|          | 0.00/451 [00:00<?, ?B/s]"
          },
          "metadata": {}
        },
        {
          "output_type": "display_data",
          "data": {
            "application/vnd.jupyter.widget-view+json": {
              "model_id": "1512e97dc1094c74a99cf846ce06ccc7",
              "version_major": 2,
              "version_minor": 0
            },
            "text/plain": "Downloading:   0%|          | 0.00/265M [00:00<?, ?B/s]"
          },
          "metadata": {}
        },
        {
          "output_type": "stream",
          "name": "stdout",
          "text": "Epoch 1/3:\nProgress: [====================] 384/384  17m 12s\tloss: 4.0553\tf1: 0.2573\tacc: 0.3661\tval_loss: 3.7520\tval_f1: 0.2940\tval_acc: 0.4188\nValidation accuracy increased from 0.0000 to 0.4188, saving to ../data/distilbert_sample.pt\n\n\n\nEpoch 2/3:\nProgress: [====================] 384/384  17m 12s\tloss: 3.8766\tf1: 0.2641\tacc: 0.3821\tval_loss: 3.6945\tval_f1: 0.3059\tval_acc: 0.4365\nValidation accuracy increased from 0.4188 to 0.4365, saving to ../data/distilbert_sample.pt\n\n\n\nEpoch 3/3:\nProgress: [====================] 384/384  17m 13s\tloss: 3.8630\tf1: 0.2650\tacc: 0.3894\tval_loss: 3.6645\tval_f1: 0.3000\tval_acc: 0.4241"
        }
      ],
      "execution_count": 35,
      "metadata": {
        "execution": {
          "iopub.execute_input": "2022-04-02T16:35:48.916858Z",
          "iopub.status.busy": "2022-04-02T16:35:48.916608Z",
          "iopub.status.idle": "2022-04-02T17:28:39.276376Z",
          "shell.execute_reply": "2022-04-02T17:28:39.275275Z",
          "shell.execute_reply.started": "2022-04-02T16:35:48.916832Z"
        }
      }
    },
    {
      "cell_type": "code",
      "source": [
        "# Evaluation the performance on test set\n",
        "dbert_model.load('../data/distilbert_sample.pt')\n",
        "dbert_eval_metrics = dbert_model.evaluate(dbert_test_loader, dbert_feature_idx_map, 'cpu')"
      ],
      "outputs": [
        {
          "output_type": "stream",
          "name": "stdout",
          "text": "Progress: [====================] 110/110\nloss: 3.7082\tf1:0.2985\tacc:0.4296\n"
        }
      ],
      "execution_count": 37,
      "metadata": {
        "execution": {
          "iopub.execute_input": "2022-04-02T17:29:16.557220Z",
          "iopub.status.busy": "2022-04-02T17:29:16.556868Z",
          "iopub.status.idle": "2022-04-02T18:05:02.971478Z",
          "shell.execute_reply": "2022-04-02T18:05:02.970588Z",
          "shell.execute_reply.started": "2022-04-02T17:29:16.557182Z"
        },
        "scrolled": true
      }
    }
  ],
  "metadata": {
    "kernelspec": {
      "name": "python3",
      "language": "python",
      "display_name": "Python 3"
    },
    "language_info": {
      "name": "python",
      "version": "3.8.5",
      "mimetype": "text/x-python",
      "codemirror_mode": {
        "name": "ipython",
        "version": 3
      },
      "pygments_lexer": "ipython3",
      "nbconvert_exporter": "python",
      "file_extension": ".py"
    },
    "kernel_info": {
      "name": "python3"
    },
    "nteract": {
      "version": "nteract-front-end@1.0.0"
    },
    "microsoft": {
      "host": {
        "AzureML": {
          "notebookHasBeenCompleted": true
        }
      }
    }
  },
  "nbformat": 4,
  "nbformat_minor": 4
}