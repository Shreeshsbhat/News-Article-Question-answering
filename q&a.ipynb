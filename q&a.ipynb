{
  "cells": [
    {
      "cell_type": "code",
      "source": [
        "# from pydantic import BaseModel\n",
        "import pickle\n",
        "import transformers\n",
        "# transformers.logging.set_verbosity_info()\n",
        "from newsqa import NewsQaModel, getprediction\n",
        "from transformers import BertTokenizer\n",
        "model_name = 'bert-large-uncased-whole-word-masking-finetuned-squad'\n",
        "tokenzer = BertTokenizer.from_pretrained(model_name)\n",
        "newsqa_model = NewsQaModel()\n",
        "newsqa_model.load('data/bert_model.pt')\n",
        "\n",
        "\n"
      ],
      "outputs": [],
      "execution_count": 1,
      "metadata": {
        "tags": [],
        "gather": {
          "logged": 1650274922395
        }
      },
      "id": "d3135005-8a9f-437b-a694-873dfe9665a9"
    },
    {
      "cell_type": "code",
      "source": [
        "import sys\r\n",
        "sys.path.append(\"../\")\r\n",
        "\r\n",
        "import warnings\r\n",
        "warnings.filterwarnings(\"ignore\")\r\n",
        "\r\n",
        "import random\r\n",
        "import re\r\n",
        "import utils\r\n",
        "import os.path\r\n",
        "\r\n",
        "import numpy as np\r\n",
        "import pandas as pd\r\n",
        "import matplotlib.pyplot as plt\r\n",
        "plt.style.use('seaborn-whitegrid')\r\n",
        "\r\n",
        "from sklearn.feature_extraction.text import CountVectorizer\r\n",
        "from newsqa import NewsQaExample, NewsQaModel, create_dataset, getprediction\r\n",
        "\r\n",
        "from transformers import BertTokenizer, BertForQuestionAnswering\r\n",
        "from transformers import DistilBertTokenizer, DistilBertForQuestionAnswering\r\n",
        "\r\n",
        "import torch\r\n",
        "from torch.utils.data import DataLoader, RandomSampler, SequentialSampler\r\n",
        "device = torch.device(\"cuda:0\" if torch.cuda.is_available() else \"cpu\")\r\n",
        "torch.manual_seed(0)\r\n",
        "\r\n",
        "\r\n",
        "from sklearn.metrics.pairwise import cosine_similarity\r\n",
        "import spacy\r\n",
        "\r\n",
        "from spacy.lang.en import English\r\n",
        "import en_core_web_md\r\n",
        "nlp = en_core_web_md.load()\r\n",
        "en = English()"
      ],
      "outputs": [],
      "execution_count": 2,
      "metadata": {
        "jupyter": {
          "source_hidden": false,
          "outputs_hidden": false
        },
        "nteract": {
          "transient": {
            "deleting": false
          }
        },
        "gather": {
          "logged": 1650274943561
        }
      },
      "id": "0591839f-43a2-405c-8686-e869d4e7549e"
    },
    {
      "cell_type": "code",
      "source": [
        "Paragraph = '''\n",
        "Whenever I write about the ascent of\n",
        " modern RISC processors such as Arm and RISC-V, I always get comments about how RISC processors failed to take on Intel in the past and that they are doomed to fail again.\n",
        "It is true that there was a battle between RISC and CISC processors in the 1990s. At the time workstations from companies such as Sun, Silicon Graphics and Acorn were hot stuff. Computers magazines had lots of stories about them. I remember going to conferences back then and seeing mostly Unix workstations rather than Windows machines. However, within a relatively few years these Unix workstations were pretty much all gone.\n",
        "The question people cannot stop asking is: Why would history not repeat itself? Will x86 not always end up victorious in the end?\n",
        "To understand why this will not happen this time around, we need to understand why RISC workstations lost back in the day and why then everything will be different this time around.\n",
        "Intel’s Volume Advantage in the 90s\n",
        "Production volume matters a lot when it comes to the cost of chips. Large and advanced independent chip manufacturers such as Taiwan Semiconductor Manufacturing Company (TSMC), which makes chips for Apple and many others today, did not exist in the 90s.\n",
        "The one who had the most advanced manufacturing capability and the highest volume was Intel. RISC processors at the time were cheaper to design as they were simpler. However, lower volume meant higher unit prices.\n",
        "Intel had the opposite situation. They had much higher design costs as the x86 instruction set made chips harder to design. However, due to their volume, they could produce chips at a lower cost per unit.\n",
        "For high-end workstations which would be low volume, there was an obvious advantage with RISC chips. You could design higher-performance chips at a lower cost. For low-volume workstations, Intel would not be able to compete as their design cost could not be amortized across enough volume of chips.\n",
        "The Unix workstations ended up with advanced custom-made hardware at every level which supported all sorts of fancy features such as hot-plugging hardware at runtime, and extremely fast memory. I think some workstations even let you add a CPU while it was running but don’t quote me on that.\n",
        "Combined this produced awesome RISC machines at eye-watering prices.\n",
        "Open vs Closed Platform\n",
        "Closed platforms may give a better overall user experience, just look at Apple. The problem is that you end up with premium prices. All the RISC workstation vendors were like Apple: They sold premium products at premium prices.\n",
        "The problem with such a business model is that the low-end competitor always ends up improving and closing in on you. The low-end has the benefit of volume which means high-end products very often lose out to low-end products moving up the value chain.\n",
        "The Threat of “Good Enough”\n",
        "The problem for RISC-based workstations was that eventually, PCs started getting good enough. They still had flaws compared to RISC-based workstations but the PCs could offer far more software and much lower prices. Thus Intel started gradually eating into the market of RISC workstations which then had to decide whether to fight in the low-end of their business or try to race ahead at the high-end.\n",
        "With higher volume and higher total profits, Intel could afford to throw a lot more money at designing chips than the RISC guys. They could also use smaller node sizes to increase performance without actually having better-designed chips than the RISC guys. This made Intel gradually erode the RISC advantage.\n",
        "They never stood a chance because they began at the high-end not the low end.\n",
        "Did Pentium Become More RISC-like Kill RISC Processors?\n",
        "In 1996 Intel shipped the Pentium Pro (P6) and their marketing material started hyping up the chip had basically been a RISC processor which could run x86 instructions. It was sold as having an exterior that could chop up x86 instructions into RISC instructions. A lot of people will point to this transition as the real reason Intel won. But there are many problems with that story. Bob Colwell who designed the Pentium Pro at Intel actually vehemently rejects that there is anything RISC-like about the processor:\n",
        "Intel’s x86’s do NOT have a RISC engine “under the hood.” They implement the x86 instruction set architecture via a decode/execution scheme relying on mapping the x86 instructions into machine operations, or sequences of machine operations for complex instructions, and those operations then find their way through the microarchitecture, obeying various rules about data dependencies and ultimately time-sequencing.\n",
        "The “micro-ops” that perform this feat are over 100 bits wide, carry all sorts of odd information, cannot be directly generated by a compiler, are not necessarily single cycle. But most of all, they are a microarchitecture artifice — RISC/CISC is about the instruction set architecture.\n",
        "This debate has been ongoing for a long time. I wrote a story comparing RISC and CISC getting into this very topic: What Does RISC and CISC Mean in 2020?\n",
        "Joel Hruska followed up with a great article later which makes a different conclusion from mine: RISC vs. CISC Is the Wrong Lens for Comparing Modern x86, ARM CPU.\n",
        "Actually, I think Joel makes the most compelling arguments, but I will not delve into those details here. One can debate this issue at length but at the end of the day, it is not that relevant. Intel found ways to combat the advantage of RISC processors but there was still no inherent technical advantage in having a CISC processor. Having an x86 instruction set did not give Intel processors a performance advantage no matter how you look at it. At the end of the day having more cash to spend on making better micro-architecture and more sophisticated manufacturing made the difference.\n",
        "Why RISC Today is Totally Different From the 90s\n",
        "Today the chip game is completely reverse. Arm did not start by selling high-end RISC workstations. Instead, they began by dominating the low-end chips market made up of micro-controllers, embedded devices, dumb phones, and smartphones. In 2020 25 billion Arm-based chips got shipped. In comparison, the whole PC market in 2020 was 275 million units. Think about that! That is two orders of magnitude difference.\n",
        "Here is a crazy fact few seem to have picked up about the world we live in today. People are used to thinking about Apple as being the small player. Macs have about a 10% market share of the computer market. So in people’s minds, Apple is a small player. What people fail to take into account is how dominant smartphones and tablets have become. An iPhone today frequently costs significantly more than a desktop computer or laptop. You got plenty of smartphones capable of outperforming low-end PCs.\n",
        "These devices have high-end CPUs in them. Many of Apple’s iPad models have M1 chips inside. The very same chip used in many of their popular desktops and laptops. Thus in terms of CPU capability, it does not make that much sense to separate these markets. So here is a simple statistic that will blow your mind: Apple shipped a total of 285 million iPhones, iPads, and Macs in 2020.\n",
        "\n",
        "Comparing the total PC market with total units shipped by Apple with Arm chips inside\n",
        "Thus there are more CPUs going into Apple products than there are CPUs going into the whole PC market. Thus being king-of-the-hill in the PC market isn’t that big of a deal. This market is what Intel owns but it simply isn’t that big of a market. Apple alone is making of CPUs than Intel.\n",
        "So if you look at the whole Arm market it is clear that the idea that x86 is still the dominant player is just ludicrous. Arm already won. Intel and AMD today are where the RISC workstation guys were in the 90s. They god the high high-end while facing a high-volume competitor which is rapidly catching up.\n",
        "x86 Performance Edge is Not Going to Hold\n",
        "The fastest supercomputers today are built using Arm,s not x86 chips. Intel and AMD are able to outperform the chips made by Apple but only at the cost of insane power usage. That is not a sustainable strategy to maintain an edge. Apple has the clear lead in terms of performance per watt. Now Apple cares more about slim design and long battery life than Intel and AMD which both make a lot of money on delivering to data centers. Thus they are not directly competing across the whole product lineup.\n",
        "But other companies such as Amazon, Ampere, and Nvidia are making Arm chips for data centers which will compete directly with AMD and Intel. Ampere has their Ampere Altra Max with 128 Arm Neoverse N1 cores. The Altra outperforms the AMD EPYC 7763 with 64 cores which are regarded as the fastest x86 CPU. Amazon has come out with their Graviton3 chip with 64 Neoverse V1 cores. Meanwhile, Nvidia has announced their Grace super-chip which will have 144 Neoverse V2 cores.\n",
        "\n",
        "Overview of current and coming high-performance Arm processors.\n",
        "It might be interesting to note the difference between the Neoverse N and V cores. The N variants are for traditional server workloads while the V variants are for high-performance computing (HPC). With HPC we typically mean scientifically oriented workloads such as machine learning, lots of matrix multiplications, and other floating-point operations.\n",
        "So you can imagine you might want the Neoverse N cores for hosting databases and web servers while you would use Neoverse V for machine learning, data analysis, simulations, etc.\n",
        "The important point is that Arm chips exist for all markets. Apple makes the Arm chips that can compete in the desktop and laptop consumer space. Amazon, Ampere, and Nvidia supply the Arm chips which can compete in data centers.\n",
        "But x86 won in the 90s over RISC! Sorry, but the rules have changed. Arm has higher volume today and Arm chip makers have access to equal or superior manufacturing through companies such as TSMC.\n",
        "What About RISC-V?\n",
        "It is not just when talking about Arm chips that the x86 victory over RISC in the 1990s is mentioned. It is also a point raised whenever somebody talks about the future of RISC-V. Again exactly the same story applies to RISC-V as with Arm. RISC-V chips can in principle be built by TSCM so there is no node size advantage for Intel.\n",
        "What about volume? RISC-V-like Arm is starting at the low end where volume is high. RISC-V processors are going into hard drive controllers, mice, keyboards, Bluetooth devices, IoT, and a dozen other things today. Thus RISC-V is a lot more like Arm than the UltraSPARC, MIPS, and Alpha RISC processors of the 1990s.\n",
        "Of course, it will take time for RISC-V to gain the kind of popularity and performance Arm enjoys today, but there is nothing stopping RISC-V from beating x86 chips sometimes in the future. However, by the time RISC-V is competing in the high-performance space I doubt there are any x86 chips around to compete against. The future will more likely be a battle between Arm and RISC-V. But you should give RISC-V at least another 5–6 years before you can expect it to be going up against Arm.\n",
        "Related Stories\n",
        "If you are interested in reading more of my stories about microprocessors, CISC, and RISC you may find some of these interesting:\n",
        "What the Heck is a Micro-Operation? — Micro-operations is a concept that pops up often when discussing modern RISC and CISC processors. This story demystifies what a micro-operation is.\n",
        "Why Pipeline a Microprocessor? — RISC processors pioneered the use of instruction pipelines. What are they and why are they useful to increase performance?\n",
        "What Does RISC and CISC Mean in 2020? — Historical comparison of RISC and CISC design and a look at their convergence and the differences that still exist.\n",
        "RISC-V Vector Instructions vs ARM and x86 SIMD — Focused on comparing packed-SIMD and vector-SIMD instructions and why they exist.\n",
        "ARMv9: What is the Big Deal? — Goes into more details about the SVE2 vector-SIMD instruction set added to the ARMv9 architecture.\n",
        "The Genius of RISC-V Microprocessors — Nothing about SIMD but about instruction compression and macro-operation fusion in RISC-V cores.\n",
        "Vector Processing on CPUs and GPUs Compared — Different ways of achieving data parallelism are compared and explored.\n",
        "Why Is Apple’s M1 Chip So Fast? — Relevant when discussing RISC and CISC processors as this gets into how the fact that M1 is a RISC professor plays a significant role in explaining why it performs so well.\n",
        "99\n",
        "\n",
        "\n",
        "4'''\n",
        "\n",
        "Question = \"what is the name of new apple chip\""
      ],
      "outputs": [],
      "execution_count": 5,
      "metadata": {
        "tags": [],
        "gather": {
          "logged": 1650274946696
        }
      },
      "id": "135ba3b8-73c3-43a8-976d-d6a3705a6b9c"
    },
    {
      "cell_type": "code",
      "source": [
        "# Reading in the dataset\r\n",
        "data = pd.read_csv('data/newsqa-dataset-cleaned.csv')\r\n",
        "\r\n",
        "# Getting a sample from the dataset 1756 rows\r\n",
        "data = data.sample(frac = 0.02, random_state = 9)\r\n",
        "data = data.reset_index(drop = True)\r\n",
        "\r\n",
        "data.head()"
      ],
      "outputs": [
        {
          "output_type": "execute_result",
          "execution_count": 6,
          "data": {
            "text/plain": "                                   story_id  \\\n0  92257ec476bf09197a5f7d3fe4afa1fa0fa558b8   \n1  f86ec18903f4df98891df668cb48647f3f931b48   \n2  cd20536ba3ed67f206d5d648937177a677804789   \n3  3a6006a860997143e1b8ecc5764b1d303f55d3d2   \n4  45d907378dd9b4d5b8b73243be6fb2f3f9a705bb   \n\n                                            question  \\\n0                         What did workers discover?   \n1           How many dollars was seized in property?   \n2                              what is the next step   \n3                               Where did both play?   \n4  Where is a good spot for classic straight ahea...   \n\n                        answer_char_ranges validated_answers  start_idx  \\\n0                     157:165|649:669|None    {\"649:669\": 2}        641   \n1                  132:144|864:876|864:876               NaN        860   \n2                                None|None               NaN         -1   \n3                    503:519|41:64|503:519               NaN        495   \n4  2115:2127,2132:2139|2115:2127,2132:2139               NaN       2125   \n\n   end_idx  \n0      669  \n1      876  \n2       -1  \n3      522  \n4     2141  ",
            "text/html": "<div>\n<style scoped>\n    .dataframe tbody tr th:only-of-type {\n        vertical-align: middle;\n    }\n\n    .dataframe tbody tr th {\n        vertical-align: top;\n    }\n\n    .dataframe thead th {\n        text-align: right;\n    }\n</style>\n<table border=\"1\" class=\"dataframe\">\n  <thead>\n    <tr style=\"text-align: right;\">\n      <th></th>\n      <th>story_id</th>\n      <th>question</th>\n      <th>answer_char_ranges</th>\n      <th>validated_answers</th>\n      <th>start_idx</th>\n      <th>end_idx</th>\n    </tr>\n  </thead>\n  <tbody>\n    <tr>\n      <th>0</th>\n      <td>92257ec476bf09197a5f7d3fe4afa1fa0fa558b8</td>\n      <td>What did workers discover?</td>\n      <td>157:165|649:669|None</td>\n      <td>{\"649:669\": 2}</td>\n      <td>641</td>\n      <td>669</td>\n    </tr>\n    <tr>\n      <th>1</th>\n      <td>f86ec18903f4df98891df668cb48647f3f931b48</td>\n      <td>How many dollars was seized in property?</td>\n      <td>132:144|864:876|864:876</td>\n      <td>NaN</td>\n      <td>860</td>\n      <td>876</td>\n    </tr>\n    <tr>\n      <th>2</th>\n      <td>cd20536ba3ed67f206d5d648937177a677804789</td>\n      <td>what is the next step</td>\n      <td>None|None</td>\n      <td>NaN</td>\n      <td>-1</td>\n      <td>-1</td>\n    </tr>\n    <tr>\n      <th>3</th>\n      <td>3a6006a860997143e1b8ecc5764b1d303f55d3d2</td>\n      <td>Where did both play?</td>\n      <td>503:519|41:64|503:519</td>\n      <td>NaN</td>\n      <td>495</td>\n      <td>522</td>\n    </tr>\n    <tr>\n      <th>4</th>\n      <td>45d907378dd9b4d5b8b73243be6fb2f3f9a705bb</td>\n      <td>Where is a good spot for classic straight ahea...</td>\n      <td>2115:2127,2132:2139|2115:2127,2132:2139</td>\n      <td>NaN</td>\n      <td>2125</td>\n      <td>2141</td>\n    </tr>\n  </tbody>\n</table>\n</div>"
          },
          "metadata": {}
        }
      ],
      "execution_count": 6,
      "metadata": {
        "jupyter": {
          "source_hidden": false,
          "outputs_hidden": false
        },
        "nteract": {
          "transient": {
            "deleting": false
          }
        },
        "gather": {
          "logged": 1650274952265
        }
      },
      "id": "719e8990-3d99-4cdf-888a-cdd6a73aa220"
    },
    {
      "cell_type": "code",
      "source": [
        "def calculate_metrics(pred_start, pred_end, true_start, true_end):\r\n",
        "   \r\n",
        "    # Get the overlap\r\n",
        "    overlap = set(range(true_start, true_end)).intersection(range(pred_start, pred_end))\r\n",
        "    overlap = len(overlap)\r\n",
        "\r\n",
        "    # If either of them have no answer\r\n",
        "    if true_end == 0 or pred_end == 0:\r\n",
        "        f1_score = int(true_end == pred_end)\r\n",
        "        is_correct = int(true_end == pred_end)\r\n",
        "        return f1_score, is_correct\r\n",
        "    \r\n",
        "    # If they don't overlap at all\r\n",
        "    if overlap == 0 or pred_start >= pred_end:\r\n",
        "        f1_score = 0\r\n",
        "        is_correct = 0\r\n",
        "        return f1_score, is_correct\r\n",
        "\r\n",
        "    # If there is an overlap, we consider it correct\r\n",
        "    is_correct = 1\r\n",
        "\r\n",
        "    precision = overlap / (pred_end - pred_start)\r\n",
        "    recall = overlap / (true_end - true_start)\r\n",
        "    f1_score = (2 * precision * recall) / (precision + recall)\r\n",
        "\r\n",
        "    return f1_score, is_correct"
      ],
      "outputs": [],
      "execution_count": 7,
      "metadata": {
        "jupyter": {
          "source_hidden": false,
          "outputs_hidden": false
        },
        "nteract": {
          "transient": {
            "deleting": false
          }
        },
        "gather": {
          "logged": 1650274962350
        }
      },
      "id": "9033fb90-4868-46d8-a2ad-2e6235d07cd8"
    },
    {
      "cell_type": "code",
      "source": [
        "NEWS_STORIES = utils.open_pickle('data/news_stories.pkl')\r\n",
        "text = 0\r\n",
        "shr = 0\r\n",
        "count = 0\r\n",
        "sid = []\r\n",
        "qu = []\r\n",
        "start = []\r\n",
        "end = []\r\n",
        "total_examples = len(data)"
      ],
      "outputs": [],
      "execution_count": 8,
      "metadata": {
        "jupyter": {
          "source_hidden": false,
          "outputs_hidden": false
        },
        "nteract": {
          "transient": {
            "deleting": false
          }
        },
        "gather": {
          "logged": 1650274965213
        }
      },
      "id": "40fb1450-b212-4d93-a265-4d53595b7b33"
    },
    {
      "cell_type": "code",
      "source": [
        "NEWS_STORIES[row['']]"
      ],
      "outputs": [
        {
          "output_type": "error",
          "ename": "KeyError",
          "evalue": "'f86ec18903f4df98891df668cb48647f3f931b48'",
          "traceback": [
            "\u001b[0;31m---------------------------------------------------------------------------\u001b[0m",
            "\u001b[0;31mKeyError\u001b[0m                                  Traceback (most recent call last)",
            "\u001b[0;32m/anaconda/envs/azureml_py38/lib/python3.8/site-packages/pandas/core/indexes/base.py\u001b[0m in \u001b[0;36mget_loc\u001b[0;34m(self, key, method, tolerance)\u001b[0m\n\u001b[1;32m   2897\u001b[0m             \u001b[0;32mtry\u001b[0m\u001b[0;34m:\u001b[0m\u001b[0;34m\u001b[0m\u001b[0;34m\u001b[0m\u001b[0m\n\u001b[0;32m-> 2898\u001b[0;31m                 \u001b[0;32mreturn\u001b[0m \u001b[0mself\u001b[0m\u001b[0;34m.\u001b[0m\u001b[0m_engine\u001b[0m\u001b[0;34m.\u001b[0m\u001b[0mget_loc\u001b[0m\u001b[0;34m(\u001b[0m\u001b[0mcasted_key\u001b[0m\u001b[0;34m)\u001b[0m\u001b[0;34m\u001b[0m\u001b[0;34m\u001b[0m\u001b[0m\n\u001b[0m\u001b[1;32m   2899\u001b[0m             \u001b[0;32mexcept\u001b[0m \u001b[0mKeyError\u001b[0m \u001b[0;32mas\u001b[0m \u001b[0merr\u001b[0m\u001b[0;34m:\u001b[0m\u001b[0;34m\u001b[0m\u001b[0;34m\u001b[0m\u001b[0m\n",
            "\u001b[0;32mpandas/_libs/index.pyx\u001b[0m in \u001b[0;36mpandas._libs.index.IndexEngine.get_loc\u001b[0;34m()\u001b[0m\n",
            "\u001b[0;32mpandas/_libs/index.pyx\u001b[0m in \u001b[0;36mpandas._libs.index.IndexEngine.get_loc\u001b[0;34m()\u001b[0m\n",
            "\u001b[0;32mpandas/_libs/hashtable_class_helper.pxi\u001b[0m in \u001b[0;36mpandas._libs.hashtable.PyObjectHashTable.get_item\u001b[0;34m()\u001b[0m\n",
            "\u001b[0;32mpandas/_libs/hashtable_class_helper.pxi\u001b[0m in \u001b[0;36mpandas._libs.hashtable.PyObjectHashTable.get_item\u001b[0;34m()\u001b[0m\n",
            "\u001b[0;31mKeyError\u001b[0m: 'f86ec18903f4df98891df668cb48647f3f931b48'",
            "\nThe above exception was the direct cause of the following exception:\n",
            "\u001b[0;31mKeyError\u001b[0m                                  Traceback (most recent call last)",
            "\u001b[0;32m<ipython-input-12-132d2cfaee86>\u001b[0m in \u001b[0;36m<module>\u001b[0;34m\u001b[0m\n\u001b[0;32m----> 1\u001b[0;31m \u001b[0mNEWS_STORIES\u001b[0m\u001b[0;34m[\u001b[0m\u001b[0mrow\u001b[0m\u001b[0;34m[\u001b[0m\u001b[0;34m'f86ec18903f4df98891df668cb48647f3f931b48'\u001b[0m\u001b[0;34m]\u001b[0m\u001b[0;34m]\u001b[0m\u001b[0;34m\u001b[0m\u001b[0;34m\u001b[0m\u001b[0m\n\u001b[0m",
            "\u001b[0;32m/anaconda/envs/azureml_py38/lib/python3.8/site-packages/pandas/core/series.py\u001b[0m in \u001b[0;36m__getitem__\u001b[0;34m(self, key)\u001b[0m\n\u001b[1;32m    880\u001b[0m \u001b[0;34m\u001b[0m\u001b[0m\n\u001b[1;32m    881\u001b[0m         \u001b[0;32melif\u001b[0m \u001b[0mkey_is_scalar\u001b[0m\u001b[0;34m:\u001b[0m\u001b[0;34m\u001b[0m\u001b[0;34m\u001b[0m\u001b[0m\n\u001b[0;32m--> 882\u001b[0;31m             \u001b[0;32mreturn\u001b[0m \u001b[0mself\u001b[0m\u001b[0;34m.\u001b[0m\u001b[0m_get_value\u001b[0m\u001b[0;34m(\u001b[0m\u001b[0mkey\u001b[0m\u001b[0;34m)\u001b[0m\u001b[0;34m\u001b[0m\u001b[0;34m\u001b[0m\u001b[0m\n\u001b[0m\u001b[1;32m    883\u001b[0m \u001b[0;34m\u001b[0m\u001b[0m\n\u001b[1;32m    884\u001b[0m         \u001b[0;32mif\u001b[0m \u001b[0mis_hashable\u001b[0m\u001b[0;34m(\u001b[0m\u001b[0mkey\u001b[0m\u001b[0;34m)\u001b[0m\u001b[0;34m:\u001b[0m\u001b[0;34m\u001b[0m\u001b[0;34m\u001b[0m\u001b[0m\n",
            "\u001b[0;32m/anaconda/envs/azureml_py38/lib/python3.8/site-packages/pandas/core/series.py\u001b[0m in \u001b[0;36m_get_value\u001b[0;34m(self, label, takeable)\u001b[0m\n\u001b[1;32m    988\u001b[0m \u001b[0;34m\u001b[0m\u001b[0m\n\u001b[1;32m    989\u001b[0m         \u001b[0;31m# Similar to Index.get_value, but we do not fall back to positional\u001b[0m\u001b[0;34m\u001b[0m\u001b[0;34m\u001b[0m\u001b[0;34m\u001b[0m\u001b[0m\n\u001b[0;32m--> 990\u001b[0;31m         \u001b[0mloc\u001b[0m \u001b[0;34m=\u001b[0m \u001b[0mself\u001b[0m\u001b[0;34m.\u001b[0m\u001b[0mindex\u001b[0m\u001b[0;34m.\u001b[0m\u001b[0mget_loc\u001b[0m\u001b[0;34m(\u001b[0m\u001b[0mlabel\u001b[0m\u001b[0;34m)\u001b[0m\u001b[0;34m\u001b[0m\u001b[0;34m\u001b[0m\u001b[0m\n\u001b[0m\u001b[1;32m    991\u001b[0m         \u001b[0;32mreturn\u001b[0m \u001b[0mself\u001b[0m\u001b[0;34m.\u001b[0m\u001b[0mindex\u001b[0m\u001b[0;34m.\u001b[0m\u001b[0m_get_values_for_loc\u001b[0m\u001b[0;34m(\u001b[0m\u001b[0mself\u001b[0m\u001b[0;34m,\u001b[0m \u001b[0mloc\u001b[0m\u001b[0;34m,\u001b[0m \u001b[0mlabel\u001b[0m\u001b[0;34m)\u001b[0m\u001b[0;34m\u001b[0m\u001b[0;34m\u001b[0m\u001b[0m\n\u001b[1;32m    992\u001b[0m \u001b[0;34m\u001b[0m\u001b[0m\n",
            "\u001b[0;32m/anaconda/envs/azureml_py38/lib/python3.8/site-packages/pandas/core/indexes/base.py\u001b[0m in \u001b[0;36mget_loc\u001b[0;34m(self, key, method, tolerance)\u001b[0m\n\u001b[1;32m   2898\u001b[0m                 \u001b[0;32mreturn\u001b[0m \u001b[0mself\u001b[0m\u001b[0;34m.\u001b[0m\u001b[0m_engine\u001b[0m\u001b[0;34m.\u001b[0m\u001b[0mget_loc\u001b[0m\u001b[0;34m(\u001b[0m\u001b[0mcasted_key\u001b[0m\u001b[0;34m)\u001b[0m\u001b[0;34m\u001b[0m\u001b[0;34m\u001b[0m\u001b[0m\n\u001b[1;32m   2899\u001b[0m             \u001b[0;32mexcept\u001b[0m \u001b[0mKeyError\u001b[0m \u001b[0;32mas\u001b[0m \u001b[0merr\u001b[0m\u001b[0;34m:\u001b[0m\u001b[0;34m\u001b[0m\u001b[0;34m\u001b[0m\u001b[0m\n\u001b[0;32m-> 2900\u001b[0;31m                 \u001b[0;32mraise\u001b[0m \u001b[0mKeyError\u001b[0m\u001b[0;34m(\u001b[0m\u001b[0mkey\u001b[0m\u001b[0;34m)\u001b[0m \u001b[0;32mfrom\u001b[0m \u001b[0merr\u001b[0m\u001b[0;34m\u001b[0m\u001b[0;34m\u001b[0m\u001b[0m\n\u001b[0m\u001b[1;32m   2901\u001b[0m \u001b[0;34m\u001b[0m\u001b[0m\n\u001b[1;32m   2902\u001b[0m         \u001b[0;32mif\u001b[0m \u001b[0mtolerance\u001b[0m \u001b[0;32mis\u001b[0m \u001b[0;32mnot\u001b[0m \u001b[0;32mNone\u001b[0m\u001b[0;34m:\u001b[0m\u001b[0;34m\u001b[0m\u001b[0;34m\u001b[0m\u001b[0m\n",
            "\u001b[0;31mKeyError\u001b[0m: 'f86ec18903f4df98891df668cb48647f3f931b48'"
          ]
        }
      ],
      "execution_count": 12,
      "metadata": {
        "jupyter": {
          "source_hidden": false,
          "outputs_hidden": false
        },
        "nteract": {
          "transient": {
            "deleting": false
          }
        },
        "gather": {
          "logged": 1650275028274
        }
      },
      "id": "1f1b887b-3dc0-4350-ac01-a541474e7d5b"
    },
    {
      "cell_type": "code",
      "source": [
        "\r\n",
        "# took 1 hr 19 mins\r\n",
        "correct = 0\r\n",
        "total_f1 = 0\r\n",
        "pred_start =0\r\n",
        "pred_end = 0\r\n",
        "for idx, row in data.iterrows():\r\n",
        "    text = NEWS_STORIES[row['story_id']]\r\n",
        "    print(text)\r\n",
        "    question = row['question']\r\n",
        "    print(question+ \"\\n\\n\\n\")\r\n",
        "    sid.append(row['story_id'])\r\n",
        "    qu.append(row['question'])\r\n",
        "    # sentences = re.split('\\n', text)\r\n",
        "    # results = rerank.rerank(question, sentences, topn=3)\r\n",
        "    # text = listToString(results[\"top_sentences\"])\r\n",
        "\r\n",
        "    # Get the predictions\r\n",
        "    shr = getprediction(text, question,tokenzer, newsqa_model, doc_stride = 512)\r\n",
        "    pred_start = shr[1][0][0]\r\n",
        "    pred_end = shr[1][0][1]\r\n",
        "    start.append(pred_start)\r\n",
        "    end.append(pred_end)\r\n",
        "    # pred_start, pred_end = predict_answer(text, question)\r\n",
        "    f1, is_correct = calculate_metrics(pred_start, pred_end, row['start_idx'], row['end_idx'])\r\n",
        "    # print(pred_start, pred_end, row['start_idx'], row['end_idx'])\r\n",
        "    # print(NEWS_STORIES[row['story_id']])\r\n",
        "    \r\n",
        "    total_f1 += f1\r\n",
        "    correct += is_correct\r\n",
        "    \r\n",
        "    # Print progress\r\n",
        "    utils.drawProgressBar(idx + 1, total_examples)\r\n",
        "    \r\n",
        "    \r\n",
        "    \r\n",
        "acc = correct/total_examples\r\n",
        "f1_score = total_f1/total_examples"
      ],
      "outputs": [
        {
          "output_type": "stream",
          "name": "stdout",
          "text": "(CNN) -- Vehicles began streaming across the San Francisco-Oakland Bay Bridge early Tuesday -- a day ahead of schedule -- after the completion of repairs to a crack in the structure's east span.\n\nCommuters make the trek across the San Francisco-Oakland Bay Bridge after it reopened Tuesday.\n\nCommuters began driving over the bridge around 6:40 a.m. PT (9:40 a.m. ET), shortly after Randy Iwasaki, director of the California Department of Transportation, announced the reopening at a news conference.\n\n\"The bridge has been inspected, and it is safer than when we closed it on Friday,\" Iwasaki said.\n\nOver the weekend, crews began repairing a \"significant crack\" that was found on the east span of the bridge during a planned closure for another project.\n\nThe target time for reopening had been early Wednesday, but crews worked nonstop overnight to repair the eyebar beam, Iwasaki said. He thanked motorists for being patient.\n\n\"I know it's been trying. I received a few e-mail notes,\" the official said.\n\nIwasaki said some closures or detours near the bridge would remain in place a while longer, including those along northbound and southbound Interstate 880.\n\nAbout 280,000 vehicles cross the landmark bridge every day, according to the department.\n\nThe Bay Bridge was closed last week as part of a seismic retrofitting project that required cutting out and replacing a double-deck portion of the east span.  Watch as the bridge needed big repairs »\n\nA 50-foot section of the bridge collapsed in 1989 during the Loma Prieta earthquake, prompting efforts to make it quake tolerant.\n\n@highlight\n\nNEW: Bridge \"is safer than when we closed it on Friday,\" official says\n\n@highlight\n\nCalifornia bridge closed last week for scheduled retrofitting\n\n@highlight\n\nWorkers discovered \"significant crack\" on east span of bridge\n\n@highlight\n\nAbout 280,000 vehicles travel San Francisco-Oakland Bay Bridge daily\nWhat did workers discover?\n\n\n\nProgress: [>                   ] 1/1756(CNN) -- Twenty-three suspects, including nine American Airlines employees, were arrested Tuesday for allegedly transporting nearly $20 million worth of cocaine on flights into and out of Puerto Rico, federal authorities said.\n\nManuel Santiago-Alvarado, an American Airlines control crew chief, is among the suspects arrested Tuesday.\n\nMost of the commercial flights carrying suitcases stuffed with illicit drugs came into San Juan, which was a transshipment point for drugs bound for cities on the U.S. mainland, authorities said.\n\nThe drug trafficking organization headed by defendant Wilfredo Rodriguez Rosade had been operating since 1999, according to the Drug Enforcement Administration and the FBI, which participated in the long-running investigation.\n\nIn a September 9 indictment unsealed Tuesday, Justice Department officials also moved to seize $18 million worth of property owned by the suspects, including seven homes, three businesses and an apartment complex.\n\nAll but one of the arrests occurred in Puerto Rico. The lone arrest on the U.S. mainland was in Miami, Florida.\n\nDrug Enforcement Special Agent in Charge Javier Pena said the airline industry cooperated in the investigation.\n\n\"By denying the drug traffickers alternate smuggling routes, we disrupt the flow of drugs into Puerto Rico and discourage the use of the island as a transshipment point in the Caribbean,\" he said in a news release.\n\nThe agency said that if they are convicted, the defendants taken into custody would face sentences ranging from 10 years to life in prison and personal fines of up to $4 million.\n\nAmerican Airlines issued a statement confirming some employees had been arrested, but could not confirm the number because of its privacy policy, spokesman Tim Wagner said in an e-mail. The airline has been working with authorities, he said.\n\n\"As a company, we hope that the actions of a few employees don't reflect negatively on the tens of thousands of ethical American Airlines employees who work hard to serve the public daily,\" Wagner wrote.\n\n@highlight\n\n9 airline employees among those accused of smuggling $20 million in cocaine\n\n@highlight\n\nMost of flights were into or out of San Juan, Puerto Rico\n\n@highlight\n\nDEA and FBI say operation had been running since 1999\n\n@highlight\n\nJustice Department moves to seize $18 million in property\nHow many dollars was seized in property?\n\n\n\nProgress: [>                   ] 2/1756(CNN) -- Kyrgyzstan's president signed a bill Friday to close an air base that the U.S. military uses as a route for troops and supplies heading into Afghanistan, the president announced on his Web site.\n\nManas Air Base in Kyrgyzstan serves as a U.S. supply route for troops and supplies into Afghanistan.\n\nThe news came as two other central Asian nations -- Tajikistan and Uzbekistan -- reportedly agreed to let U.S. cargo pass through their countries on the way to Afghanistan.\n\nSuch deals, if confirmed, could help fill the void left by the closing of the Manas Air Base in Kyrgyzstan.\n\nThe Kyrgyz order became effective on Friday when President Kurmanbek Bakiyev reportedly signed legislation that the parliament in Bishkek backed on Thursday, the Pentagon said.\n\nPentagon spokesman Bryan Whitman said the Kyrgyz Foreign Ministry on Friday officially notified the U.S. Embassy in Bishkek that a 180-day withdrawal process is under way.\n\nEmbassy spokeswoman Michelle Yerkin told CNN the United States hopes to retain the base. Officials in Washington and Bishkek signed a deal three years ago allowing the United States to renew the arrangement annually through July 2011.\n\n\"We do remain in contact with the government of Kyrgyzstan,\" Yerkin said. \"The Manas Air Base continues to operate under existing agreements, as per the coalition's efforts in Afghanistan.\"\n\nU.S. Defense Secretary Robert Gates said Friday the United States will continue to work with Kyrgyzstan on keeping the base open.   Watch why Kyrgyzstan wants to close the base »\n\n\"I continue to believe that this is not a closed issue and that there remains the potential at least to reopen this issue with the Kyrgyz and perhaps reach a new agreement,\" Gates said at a NATO meeting in Krakow, Poland. \"If we are unable to do that on reasonable terms then, as I have suggested, we are developing alternative methods to get resupply and people into Afghanistan.\"\n\nThe Manas Air Base outside Bishkek is the only U.S. base in Central Asia and is a major resupply hub for the war in Afghanistan.\n\nIts closing could deal a significant blow to the U.S. military effort there, especially following President Barack Obama's announcement of additional troops to halt a resurgence of the country's former Taliban rulers.\n\nThe United States pays $17.4 million a year to use Manas, a major logistical and refueling center that supports troops in Afghanistan, the Pentagon said. About 15,000 troops and 500 tons of cargo reportedly move through Manas monthly, it said.\n\nThe air base currently employs more than 1,000 servicemen, 95 percent of whom are Americans, Russia's Interfax news agency reported.\n\n\"This is an important facility, it has been an important facility, but it's not irreplaceable and, if necessary, we will find other options,\" Whitman said.  How far is Manas from Afghanistan? View our map »\n\nTajikistan and Uzbekistan, two other Central Asian nations that border Afghanistan, have agreed to allow U.S. cargo to be transported to Afghanistan through their countries, the Russian news agency Interfax reported Friday.\n\nThe agency said Rear Adm. Mark Harnitchek, U.S. transportation command director for strategy, policy, programs and logistics, held a meeting with Tajik Foreign Minister Kharokhon Zarifi, after which he said he had also secured Uzbekistan's consent.\n\nA Tajik government statement said only that the two sides discussed the issue, but a spokesman for the Tajik foreign ministry told CNN that \"practically all issues\" to allow U.S. cargo transit through the country have been resolved.\n\nIf confirmed, success would still depend on how much access the United States would have to those countries for flights and cargo, and even then, it may not totally replace the capacity lost in Kyrgyzstan.\n\nU.S. General David Petraeus, who oversees the war in Afghanistan, was in Uzbekistan this week for talks on Afghanistan and other regional issues. A Pentagon spokesman told CNN that his discussions included the regional supply network into Afghanistan.\n\nThe U.S. military leased a base in Uzbekistan after the September 11, 2001, attacks on the United States. But after Uzbek troops were accused of killing at least 150 people during a demonstration in 2005, the autocratic government of President Islam Karimov came under criticism from Washington and severed most of its military ties with the United States.\n\n@highlight\n\nTajikistan, Uzbekistan may allow U.S. military supplies heading to Afhanistan\n\n@highlight\n\nKyrgyzstan president completes next step towards closure of U.S. base\n\n@highlight\n\nThe U.S. says it's still working with the country to keep the operation open\n\n@highlight\n\nThe Manas base is used to transport key supplies and troops into Afghanistan\nwhat is the next step\n\n\n\nProgress: [>                   ] 3/1756(CNN) -- The suspect in the killing of a University of Virginia student was arrested in a 2008 incident in which he threatened a police officer and was shocked with a stun gun, according to a police statement.\n\nGeorge Huguely, 22, was arrested on suspicion of murder Monday, hours after a roommate found Yeardley Love's body in her off-campus apartment in Charlottesville, Virginia.\n\nHuguely, who was also a UVA student until resigning after his arrest, and Love played on the men's and women's lacrosse teams, respectively.\n\nCNN affiliate WDBJ got a police statement recounting an encounter between an intoxicated Huguely and Lexington, Virginia, Police Officer R.L. Moss.\n\nAffidavit: Lacrosse player killed in fight after breakup\n\nAccording to the statement, Moss came across Huguely as he stumbled into traffic outside of a fraternity house at Washington and Lee University in Lexington.\n\nAfter ignoring the officer's calls to stop, Huguely was approached by Moss who, after speaking with Huguely, decided to arrest him for public drunkenness, the statement says.\n\nAt that point, Huguely started making threats, including death threats, against the officer, according to the statement.\n\n\"He became more aggressive, more physical towards me, started to calling me several other terms that I'm not going to state now,\" she told WDBJ.\n\nMoss got into a brief \"tussle\" with Huguely before resorting to her stun gun to get him under control, the statement says.\n\nAt a court hearing the next month, Moss wrote she was surprised to learn that Huguely was so intoxicated that he didn't remember being shocked with the stun gun or threatening the police officer.\n\nCourt records show that Huguely pleaded guilty to resisting arrest and public intoxication, WDBJ reported. He was given a suspended jail sentence and a fine.\n\n@highlight\n\nGeorge Huguely, 22, arrested in death of Yeardley Love; both played lacrosse at UVA\n\n@highlight\n\nHuguely previously arrested in 2008 incident in which he threatened a police officer\n\n@highlight\n\nOfficer from 2008 incident said she was forced to use stun gun on Huguely\n\n@highlight\n\nCourt records show Huguely pleaded guilty to resisting arrest, public intoxication\nWhere did both play?\n\n\n\nProgress: [>                   ] 4/1756(Coastal Living) -- New Orleans without music? That's like Venice without canals -- and just as hard to imagine. Music weaves New Orleans' past with its present, and the infinite jazz variations -- from the ethereal warble of classic Dixieland to the tuba-powered street funk of brass bands -- serve as a soundtrack to this storied city.\n\nThe best way to keep New Orleans music alive? Visit.\n\nNew Orleans music sounds sweeter today, and here's why: In the wake of Hurricane Katrina, few were certain the streets would resound as they once did.\n\nIt's not that clubs flooded and venues were wiped out -- many were on high ground and survived just fine -- but the rising waters took out much of the city's affordable housing and its tourism industry. That uncertain future made it unclear whether pass-the-hat musicians and hardworking club regulars would be able to regain their footing in the city.\n\nBut several groups took the lead to ensure that musicians would still have a home in New Orleans. Locally revered nightclub Tipitina's earmarks its proceeds to help musicians return to town and to put musical instruments back into the flooded schools.\n\nHarry Connick Jr. and Branford Marsalis, two New Orleans natives, partnered with Habitat for Humanity to build the Musicians' Village in the Upper Ninth Ward. Today, this cluster of colorful shotgun-style cottages, located an easy bike ride from the French Quarter, is gradually being filled by musicians (and others) as volunteers continue to travel here to build the houses. CoastalLiving.com: Beyond Bourbon Street\n\nWhile some still debate whether the music scene has fully regained its pre-storm luster, there's no denying that anyone who shows up hungry for the famous New Orleans sound will leave sated. You can still stroll the French Quarter or nearby Frenchmen Street and pass dozens of clubs where languid notes wander out into the muffled, humid air, pause for a moment, and disappear into the night.\n\nThe best way to keep New Orleans music alive? Visit. And bring your friends. Go to clubs. Here are four not to miss.\n\nSnug Harbor Jazz Bistro has the feel of a speakeasy -- you enter through a low-ceilinged bar into an open performance space that's at once intimate and grand. With live music nightly, this is a good spot for classic, straight-ahead jazz. Expect talents such as Ellis Marsalis (father of Branford and Wynton), Charmaine Neville (a member of New Orleans' first family of music), and powerhouse trumpet player Irvin Mayfield with his New Orleans Jazz Orchestra. CoastalLiving.com: Gulf Coast Eateries\n\nThree decades ago, a handful of local musicians was dismayed that piano legend Professor Longhair had no place to showcase his talents. They acquired a bar Uptown (it's about a 10-minute cab ride from the French Quarter), and renamed the venue after the Professor's signature song.\n\nToday Tipitina's, a spacious, two-level club in a boxy yellow building marked by a Dixie beer sign, attracts local and touring musicians ranging from inimitable songwriter-composer Allen Toussaint to rising stars such as Troy \"Trombone Shorty\" Andrews. Seating is nonexistent -- assume you'll be standing the whole show --but the open space works to your advantage on Sunday evenings, when Tip's hosts a Cajun dance party, with the emphasis on dance.\n\nFor the gold standard of New Orleans performance venues, visit Preservation Hall. Carved out of a 1750 Creole residence in the heart of the French Quarter, it's had the self-appointed mission of preserving local music since 1961. The audience lines up on the sidewalk, crowds in (it's one of the few places in town to enjoy music without smoke), then taps their feet along with bands schooled in the old ways of New Orleans. Great local musicians perform regularly, all linked by their devotion to traditional music. Thursdays are typically brass-band nights, where the \"big\" gets put in \"big New Orleans sound.\n\nWhen people imagine a laid-back New Orleans jazz club, they're thinking of a place like Donna's Bar and Grill. Smoky and utterly un-self-conscious, the corner bar sits on a fringe of the French Quarter where few tourists happen by. Inside, it's too hot in the summer and too cold in the winter. Black-and-white photos of venerable New Orleans bands hang unevenly on the walls.\n\nBut the music! It showcases a revolving cast of local greats, with Monday gigs by George French and vocalist Germaine Bazzle, and rollicking appearances by barrelhouse piano player Tom McDermott. Arrive before the show to get one of the handful of seats at the bar or in front of the low stage, grab a cold beer, then let the music take you away.\n\nIt's not too early to plan a trip to New Orleans for the French Quarter Festival, featuring more than 150 musical performances on 18 stages. The event runs April 17-19, 2009. For more info, visit fqfi.org.\n\nEnter to win a monthly Room Makeover Giveaway from MyHomeIdeas.com\n\nCopyright © Coastal Living, 2009\n\n@highlight\n\nSnug Harbor Jazz Bistro is a good spot for classic, straight-ahead jazz\n\n@highlight\n\nTipitina's is a spacious, two-level club that attracts local and touring musicians\n\n@highlight\n\nDonna's Bar and Grill showcases a revolving cast of local greats\nWhere is a good spot for classic straight ahead jazz?\n\n\n\nProgress: [>                   ] 5/1756(CNN) -- He never told a lie, as the story goes. So maybe if he were alive today, President George Washington could tell a New York City library what he did with two books he checked out 221 years ago.\n\nThe two books -- weighty discourses on international relations and parliamentary debates -- were checked out on October 5, 1789.\n\nThey were due on November 2, 1789, but weren't brought back.\n\nSince then, they've been steadily collecting a fine of a few cents each day, adding up to more than $4,000 by the New York Society Library's informal estimate.\n\n\"I'm sorry, math is not my thing at all,\" said Jane Goldstein, the assistant head librarian when asked to hazard a guess.\n\nThe fine at the time was 2 pence a day. Now, it's 15 cents -- \"It's really gone up, hasn't it?\" she quipped.\n\nOne of the librarians, Matthew Haugen, guessed the fine to be in the region of 3,000 British pounds, or about $4,577.\n\n\"He stuck with the pence concept,\" Goldstein said.\n\nThe library first learned of the missing books when it discovered a yellowed ledger in its basement\n\nIt listed all the people who had checked out books from the city's oldest library between July 1789 and April 1792.\n\nNext to the works \"Law of Nations\" and the 12th volume of \"Common Debates\" was the name of the person who checked them out: \"President.\"\n\nAt the time, New York was the capital of the United States, and the library was the only one in town.\n\nSoon after, the capital was relocated to Philadelphia and then Washington D.C.\n\nThe New York library, a subscription library that was New York's first library open to the public, has known about the missing books since the 1930s. The matter came up again recently because the library is capturing the ledgers in digital form to preserve the records.\n\nLibrary officials cross-checked the books mentioned in the ledger with the ones in their collection.\n\n\"Volume 12 (of \"Common Debates\") was still missing,\" as was the other book, Goldstein said.\n\nThe library is not so concerned about the fine as it is about each book.\n\n\"We don't know where it is,\" she said. \"We have tried to find it and we can't,\" she said.\n\n@highlight\n\nGeorge Washington has racked up a growing fine on two overdue books from NYC library\n\n@highlight\n\nThe discourses on international relations, parliamentary debates were never returned\n\n@highlight\n\nNew York Society Library would like to track down the books\n\n@highlight\n\nThe library has known about the missing books since the 1930s\nWho has racked up a fine?\n\n\n\n"
        }
      ],
      "execution_count": 16,
      "metadata": {
        "jupyter": {
          "source_hidden": false,
          "outputs_hidden": false
        },
        "nteract": {
          "transient": {
            "deleting": false
          }
        },
        "gather": {
          "logged": 1650275248197
        }
      },
      "id": "bd78ed4f-9419-4cc0-bc32-20013e235bb5"
    },
    {
      "cell_type": "code",
      "source": [
        "print(\"F1 score: {:.4f}\".format(f1_score))\r\n",
        "print(\"Accuracy: {:.4f}\".format(acc))"
      ],
      "outputs": [
        {
          "output_type": "stream",
          "name": "stdout",
          "text": "F1 score: 0.5421\nAccuracy: 0.6745\n"
        }
      ],
      "execution_count": 8,
      "metadata": {
        "jupyter": {
          "source_hidden": false,
          "outputs_hidden": false
        },
        "nteract": {
          "transient": {
            "deleting": false
          }
        },
        "gather": {
          "logged": 1649917804386
        }
      },
      "id": "5679c600-3abe-4a14-b2e1-1afdefa382e1"
    },
    {
      "cell_type": "code",
      "source": [
        "df = pd.DataFrame({'story':sid, 'question':qu,'start':start,'end':end})"
      ],
      "outputs": [],
      "execution_count": 44,
      "metadata": {
        "jupyter": {
          "source_hidden": false,
          "outputs_hidden": false
        },
        "nteract": {
          "transient": {
            "deleting": false
          }
        },
        "gather": {
          "logged": 1649922663189
        }
      },
      "id": "2859958a-b881-4d58-9774-c2c499bfe677"
    },
    {
      "cell_type": "code",
      "source": [
        "df"
      ],
      "outputs": [
        {
          "output_type": "execute_result",
          "execution_count": 45,
          "data": {
            "text/plain": "                                         story  \\\n0     92257ec476bf09197a5f7d3fe4afa1fa0fa558b8   \n1     f86ec18903f4df98891df668cb48647f3f931b48   \n2     cd20536ba3ed67f206d5d648937177a677804789   \n3     3a6006a860997143e1b8ecc5764b1d303f55d3d2   \n4     45d907378dd9b4d5b8b73243be6fb2f3f9a705bb   \n...                                        ...   \n1751  084810519b9668f3f677deec54c6284ab2810e93   \n1752  b8b5ea3238e180f7726f12c821a4b4aad9f1495d   \n1753  131375bfec062ebf7e7a5c14762725df59c60c64   \n1754  3e2589ccaf5cbc10b2d47020a607208755412b99   \n1755  28e35b68caf037877b527d723704215db796acf6   \n\n                                               question  start   end  \n0                            What did workers discover?    641   661  \n1              How many dollars was seized in property?    856   868  \n2                                 what is the next step      0     0  \n3                                  Where did both play?     -1    27  \n4     Where is a good spot for classic straight ahea...     -1    98  \n...                                                 ...    ...   ...  \n1751   What may the surveillance cameras have captured?    530   540  \n1752              What country is being discussed here?      9    21  \n1753  Poland has been a member of the European Union...     -1     8  \n1754  What number of militants was killed by the Pak...   3221  3234  \n1755           Venus Williams said what before a match?   3101  3174  \n\n[1756 rows x 4 columns]",
            "text/html": "<div>\n<style scoped>\n    .dataframe tbody tr th:only-of-type {\n        vertical-align: middle;\n    }\n\n    .dataframe tbody tr th {\n        vertical-align: top;\n    }\n\n    .dataframe thead th {\n        text-align: right;\n    }\n</style>\n<table border=\"1\" class=\"dataframe\">\n  <thead>\n    <tr style=\"text-align: right;\">\n      <th></th>\n      <th>story</th>\n      <th>question</th>\n      <th>start</th>\n      <th>end</th>\n    </tr>\n  </thead>\n  <tbody>\n    <tr>\n      <th>0</th>\n      <td>92257ec476bf09197a5f7d3fe4afa1fa0fa558b8</td>\n      <td>What did workers discover?</td>\n      <td>641</td>\n      <td>661</td>\n    </tr>\n    <tr>\n      <th>1</th>\n      <td>f86ec18903f4df98891df668cb48647f3f931b48</td>\n      <td>How many dollars was seized in property?</td>\n      <td>856</td>\n      <td>868</td>\n    </tr>\n    <tr>\n      <th>2</th>\n      <td>cd20536ba3ed67f206d5d648937177a677804789</td>\n      <td>what is the next step</td>\n      <td>0</td>\n      <td>0</td>\n    </tr>\n    <tr>\n      <th>3</th>\n      <td>3a6006a860997143e1b8ecc5764b1d303f55d3d2</td>\n      <td>Where did both play?</td>\n      <td>-1</td>\n      <td>27</td>\n    </tr>\n    <tr>\n      <th>4</th>\n      <td>45d907378dd9b4d5b8b73243be6fb2f3f9a705bb</td>\n      <td>Where is a good spot for classic straight ahea...</td>\n      <td>-1</td>\n      <td>98</td>\n    </tr>\n    <tr>\n      <th>...</th>\n      <td>...</td>\n      <td>...</td>\n      <td>...</td>\n      <td>...</td>\n    </tr>\n    <tr>\n      <th>1751</th>\n      <td>084810519b9668f3f677deec54c6284ab2810e93</td>\n      <td>What may the surveillance cameras have captured?</td>\n      <td>530</td>\n      <td>540</td>\n    </tr>\n    <tr>\n      <th>1752</th>\n      <td>b8b5ea3238e180f7726f12c821a4b4aad9f1495d</td>\n      <td>What country is being discussed here?</td>\n      <td>9</td>\n      <td>21</td>\n    </tr>\n    <tr>\n      <th>1753</th>\n      <td>131375bfec062ebf7e7a5c14762725df59c60c64</td>\n      <td>Poland has been a member of the European Union...</td>\n      <td>-1</td>\n      <td>8</td>\n    </tr>\n    <tr>\n      <th>1754</th>\n      <td>3e2589ccaf5cbc10b2d47020a607208755412b99</td>\n      <td>What number of militants was killed by the Pak...</td>\n      <td>3221</td>\n      <td>3234</td>\n    </tr>\n    <tr>\n      <th>1755</th>\n      <td>28e35b68caf037877b527d723704215db796acf6</td>\n      <td>Venus Williams said what before a match?</td>\n      <td>3101</td>\n      <td>3174</td>\n    </tr>\n  </tbody>\n</table>\n<p>1756 rows × 4 columns</p>\n</div>"
          },
          "metadata": {}
        }
      ],
      "execution_count": 45,
      "metadata": {
        "jupyter": {
          "source_hidden": false,
          "outputs_hidden": false
        },
        "nteract": {
          "transient": {
            "deleting": false
          }
        },
        "gather": {
          "logged": 1649922665470
        }
      },
      "id": "d1723cba-9990-4cf9-a4c6-53bf71d6690b"
    },
    {
      "cell_type": "code",
      "source": [
        "df.to_csv(\"no_ranking.csv\", index=True)"
      ],
      "outputs": [],
      "execution_count": 12,
      "metadata": {
        "jupyter": {
          "source_hidden": false,
          "outputs_hidden": false
        },
        "nteract": {
          "transient": {
            "deleting": false
          }
        },
        "gather": {
          "logged": 1649917960438
        }
      },
      "id": "891a50d0-83a5-4381-95d9-eec858aabdb1"
    },
    {
      "cell_type": "markdown",
      "source": [
        "After the ranking********"
      ],
      "metadata": {
        "nteract": {
          "transient": {
            "deleting": false
          }
        }
      },
      "id": "5559a89b-b776-45f2-ae38-08362c5f0eae"
    },
    {
      "cell_type": "code",
      "source": [
        "%%capture\r\n",
        "from reranker import Rerank\r\n",
        "import re\r\n",
        "model_path = \"nboost/pt-tinybert-msmarco\"\r\n",
        "rerank = Rerank(model_path)"
      ],
      "outputs": [],
      "execution_count": 41,
      "metadata": {
        "jupyter": {
          "source_hidden": false,
          "outputs_hidden": false
        },
        "nteract": {
          "transient": {
            "deleting": false
          }
        }
      },
      "id": "1f1ed0aa-f09c-4282-b5a7-6c3c1084e35d"
    },
    {
      "cell_type": "code",
      "source": [
        "#took 43 min 11 sec\r\n",
        "\r\n",
        "%%capture\r\n",
        "correct = 0\r\n",
        "total_f1 = 0\r\n",
        "pred_start =0\r\n",
        "pred_end = 0\r\n",
        "for idx, row in data.iterrows():\r\n",
        "    text = NEWS_STORIES[row['story_id']]\r\n",
        "    question = row['question']\r\n",
        "    sid.append(row['story_id'])\r\n",
        "    qu.append(row['question'])\r\n",
        "    sentences = re.split('\\n', text)\r\n",
        "    results = rerank.rerank(question, sentences, topn=3)\r\n",
        "    text = listToString(results[\"top_sentences\"])\r\n",
        "\r\n",
        "    # Get the predictions\r\n",
        "    shr = getprediction(text, question,tokenzer, newsqa_model, doc_stride = 512)\r\n",
        "\r\n",
        "    ans = shr[0][0]\r\n",
        "    res = NEWS_STORIES[row['story_id']].find(ans)\r\n",
        "    # print(res,res+len(ans))\r\n",
        "\r\n",
        "\r\n",
        "    pred_start = res\r\n",
        "    pred_end = res+len(ans)\r\n",
        "    start.append(pred_start)\r\n",
        "    end.append(pred_end)\r\n",
        "    # pred_start, pred_end = predict_answer(text, question)\r\n",
        "    f1, is_correct = calculate_metrics(pred_start, pred_end, row['start_idx'], row['end_idx'])\r\n",
        "    # print(pred_start, pred_end, row['start_idx'], row['end_idx'])\r\n",
        "    # print(NEWS_STORIES[row['story_id']])\r\n",
        "    \r\n",
        "    total_f1 += f1\r\n",
        "    correct += is_correct\r\n",
        "    \r\n",
        "    # Print progress\r\n",
        "    utils.drawProgressBar(idx + 1, total_examples)\r\n",
        "    \r\n",
        "    \r\n",
        "    \r\n",
        "acc = correct/total_examples\r\n",
        "f1_score = total_f1/total_examples"
      ],
      "outputs": [],
      "execution_count": 42,
      "metadata": {
        "jupyter": {
          "source_hidden": false,
          "outputs_hidden": false
        },
        "nteract": {
          "transient": {
            "deleting": false
          }
        }
      },
      "id": "c756819c-009d-496b-8a29-17b8de79c0f6"
    },
    {
      "cell_type": "code",
      "source": [
        "print(\"F1 score: {:.4f}\".format(f1_score))\r\n",
        "print(\"Accuracy: {:.4f}\".format(acc))"
      ],
      "outputs": [
        {
          "output_type": "stream",
          "name": "stdout",
          "text": "F1 score: 0.6423\nAccuracy: 0.7580\n"
        }
      ],
      "execution_count": 43,
      "metadata": {
        "jupyter": {
          "source_hidden": false,
          "outputs_hidden": false
        },
        "nteract": {
          "transient": {
            "deleting": false
          }
        },
        "gather": {
          "logged": 1649922610703
        }
      },
      "id": "85f210ec-21a4-4e82-bb78-4d634c3b8f7e"
    },
    {
      "cell_type": "code",
      "source": [
        "df.to_csv(\"after_ranking.csv\", index=True)"
      ],
      "outputs": [],
      "execution_count": 46,
      "metadata": {
        "jupyter": {
          "source_hidden": false,
          "outputs_hidden": false
        },
        "nteract": {
          "transient": {
            "deleting": false
          }
        },
        "gather": {
          "logged": 1649922680091
        }
      },
      "id": "8ae21543-4926-4326-9f2e-ba8f31fabef3"
    },
    {
      "cell_type": "code",
      "source": [
        "\r\n",
        "for idx, row in data.iterrows():\r\n",
        "\r\n",
        "    text = NEWS_STORIES[row['story_id']]\r\n",
        "    question = row['question']\r\n",
        "\r\n",
        "    shr = getprediction(text, question,tokenzer, newsqa_model, doc_stride = 512)\r\n",
        "    \r\n",
        "    break"
      ],
      "outputs": [],
      "execution_count": 16,
      "metadata": {
        "jupyter": {
          "source_hidden": false,
          "outputs_hidden": false
        },
        "nteract": {
          "transient": {
            "deleting": false
          }
        },
        "gather": {
          "logged": 1649912531091
        }
      },
      "id": "fef2c427-7c8c-4c1a-8232-1702a746bb9b"
    },
    {
      "cell_type": "code",
      "source": [],
      "outputs": [
        {
          "output_type": "execute_result",
          "execution_count": 63,
          "data": {
            "text/plain": "['']"
          },
          "metadata": {}
        }
      ],
      "execution_count": 63,
      "metadata": {
        "jupyter": {
          "source_hidden": false,
          "outputs_hidden": false
        },
        "nteract": {
          "transient": {
            "deleting": false
          }
        },
        "gather": {
          "logged": 1649909371699
        }
      },
      "id": "aaeeefc0-746a-45c7-a2ff-c2d6c54eb0c4"
    },
    {
      "cell_type": "code",
      "source": [],
      "outputs": [
        {
          "output_type": "execute_result",
          "execution_count": 15,
          "data": {
            "text/plain": "12225"
          },
          "metadata": {}
        }
      ],
      "execution_count": 15,
      "metadata": {
        "jupyter": {
          "source_hidden": false,
          "outputs_hidden": false
        },
        "nteract": {
          "transient": {
            "deleting": false
          }
        },
        "gather": {
          "logged": 1649906045084
        }
      },
      "id": "f77462cb-d3dc-4ec4-b689-45a3c644fc81"
    },
    {
      "cell_type": "code",
      "source": [
        "shr = getprediction(Paragraph, Question,tokenzer, newsqa_model, doc_stride = 512)"
      ],
      "outputs": [],
      "execution_count": 46,
      "metadata": {
        "tags": [],
        "gather": {
          "logged": 1649907709200
        }
      },
      "id": "789a33c7-d126-4220-abd8-09c04fd368bb"
    },
    {
      "cell_type": "code",
      "source": [
        "shr[1][0][0]"
      ],
      "outputs": [
        {
          "output_type": "execute_result",
          "execution_count": 25,
          "data": {
            "text/plain": "641"
          },
          "metadata": {}
        }
      ],
      "execution_count": 25,
      "metadata": {
        "jupyter": {
          "source_hidden": false,
          "outputs_hidden": false
        },
        "nteract": {
          "transient": {
            "deleting": false
          }
        },
        "gather": {
          "logged": 1649912607207
        }
      },
      "id": "c5828366-f5c0-4136-8b02-c07ad09db67f"
    },
    {
      "cell_type": "code",
      "source": [
        "%%capture\n",
        "from reranker import Rerank\n",
        "import re\n",
        "model_path = \"nboost/pt-tinybert-msmarco\"\n",
        "rerank = Rerank(model_path)\n"
      ],
      "outputs": [],
      "execution_count": 7,
      "metadata": {
        "tags": []
      },
      "id": "d40e2380-3274-4525-97d5-2ddd7723e860"
    },
    {
      "cell_type": "code",
      "source": [
        "%%capture\n",
        "sentences = re.split('\\n', Paragraph)\n",
        "results = rerank.rerank(Question, sentences, topn=3)"
      ],
      "outputs": [],
      "execution_count": 17,
      "metadata": {
        "tags": []
      },
      "id": "819a9caf-b880-441c-b609-8529ce61d442"
    },
    {
      "cell_type": "code",
      "source": [
        "sentences"
      ],
      "outputs": [
        {
          "output_type": "execute_result",
          "execution_count": 18,
          "data": {
            "text/plain": "['',\n 'Whenever I write about the ascent of',\n ' modern RISC processors such as Arm and RISC-V, I always get comments about how RISC processors failed to take on Intel in the past and that they are doomed to fail again.',\n 'It is true that there was a battle between RISC and CISC processors in the 1990s. At the time workstations from companies such as Sun, Silicon Graphics and Acorn were hot stuff. Computers magazines had lots of stories about them. I remember going to conferences back then and seeing mostly Unix workstations rather than Windows machines. However, within a relatively few years these Unix workstations were pretty much all gone.',\n 'The question people cannot stop asking is: Why would history not repeat itself? Will x86 not always end up victorious in the end?',\n 'To understand why this will not happen this time around, we need to understand why RISC workstations lost back in the day and why then everything will be different this time around.',\n 'Intel’s Volume Advantage in the 90s',\n 'Production volume matters a lot when it comes to the cost of chips. Large and advanced independent chip manufacturers such as Taiwan Semiconductor Manufacturing Company (TSMC), which makes chips for Apple and many others today, did not exist in the 90s.',\n 'The one who had the most advanced manufacturing capability and the highest volume was Intel. RISC processors at the time were cheaper to design as they were simpler. However, lower volume meant higher unit prices.',\n 'Intel had the opposite situation. They had much higher design costs as the x86 instruction set made chips harder to design. However, due to their volume, they could produce chips at a lower cost per unit.',\n 'For high-end workstations which would be low volume, there was an obvious advantage with RISC chips. You could design higher-performance chips at a lower cost. For low-volume workstations, Intel would not be able to compete as their design cost could not be amortized across enough volume of chips.',\n 'The Unix workstations ended up with advanced custom-made hardware at every level which supported all sorts of fancy features such as hot-plugging hardware at runtime, and extremely fast memory. I think some workstations even let you add a CPU while it was running but don’t quote me on that.',\n 'Combined this produced awesome RISC machines at eye-watering prices.',\n 'Open vs Closed Platform',\n 'Closed platforms may give a better overall user experience, just look at Apple. The problem is that you end up with premium prices. All the RISC workstation vendors were like Apple: They sold premium products at premium prices.',\n 'The problem with such a business model is that the low-end competitor always ends up improving and closing in on you. The low-end has the benefit of volume which means high-end products very often lose out to low-end products moving up the value chain.',\n 'The Threat of “Good Enough”',\n 'The problem for RISC-based workstations was that eventually, PCs started getting good enough. They still had flaws compared to RISC-based workstations but the PCs could offer far more software and much lower prices. Thus Intel started gradually eating into the market of RISC workstations which then had to decide whether to fight in the low-end of their business or try to race ahead at the high-end.',\n 'With higher volume and higher total profits, Intel could afford to throw a lot more money at designing chips than the RISC guys. They could also use smaller node sizes to increase performance without actually having better-designed chips than the RISC guys. This made Intel gradually erode the RISC advantage.',\n 'They never stood a chance because they began at the high-end not the low end.',\n 'Did Pentium Become More RISC-like Kill RISC Processors?',\n 'In 1996 Intel shipped the Pentium Pro (P6) and their marketing material started hyping up the chip had basically been a RISC processor which could run x86 instructions. It was sold as having an exterior that could chop up x86 instructions into RISC instructions. A lot of people will point to this transition as the real reason Intel won. But there are many problems with that story. Bob Colwell who designed the Pentium Pro at Intel actually vehemently rejects that there is anything RISC-like about the processor:',\n 'Intel’s x86’s do NOT have a RISC engine “under the hood.” They implement the x86 instruction set architecture via a decode/execution scheme relying on mapping the x86 instructions into machine operations, or sequences of machine operations for complex instructions, and those operations then find their way through the microarchitecture, obeying various rules about data dependencies and ultimately time-sequencing.',\n 'The “micro-ops” that perform this feat are over 100 bits wide, carry all sorts of odd information, cannot be directly generated by a compiler, are not necessarily single cycle. But most of all, they are a microarchitecture artifice — RISC/CISC is about the instruction set architecture.',\n 'This debate has been ongoing for a long time. I wrote a story comparing RISC and CISC getting into this very topic: What Does RISC and CISC Mean in 2020?',\n 'Joel Hruska followed up with a great article later which makes a different conclusion from mine: RISC vs. CISC Is the Wrong Lens for Comparing Modern x86, ARM CPU.',\n 'Actually, I think Joel makes the most compelling arguments, but I will not delve into those details here. One can debate this issue at length but at the end of the day, it is not that relevant. Intel found ways to combat the advantage of RISC processors but there was still no inherent technical advantage in having a CISC processor. Having an x86 instruction set did not give Intel processors a performance advantage no matter how you look at it. At the end of the day having more cash to spend on making better micro-architecture and more sophisticated manufacturing made the difference.',\n 'Why RISC Today is Totally Different From the 90s',\n 'Today the chip game is completely reverse. Arm did not start by selling high-end RISC workstations. Instead, they began by dominating the low-end chips market made up of micro-controllers, embedded devices, dumb phones, and smartphones. In 2020 25 billion Arm-based chips got shipped. In comparison, the whole PC market in 2020 was 275 million units. Think about that! That is two orders of magnitude difference.',\n 'Here is a crazy fact few seem to have picked up about the world we live in today. People are used to thinking about Apple as being the small player. Macs have about a 10% market share of the computer market. So in people’s minds, Apple is a small player. What people fail to take into account is how dominant smartphones and tablets have become. An iPhone today frequently costs significantly more than a desktop computer or laptop. You got plenty of smartphones capable of outperforming low-end PCs.',\n 'These devices have high-end CPUs in them. Many of Apple’s iPad models have M1 chips inside. The very same chip used in many of their popular desktops and laptops. Thus in terms of CPU capability, it does not make that much sense to separate these markets. So here is a simple statistic that will blow your mind: Apple shipped a total of 285 million iPhones, iPads, and Macs in 2020.',\n '',\n 'Comparing the total PC market with total units shipped by Apple with Arm chips inside',\n 'Thus there are more CPUs going into Apple products than there are CPUs going into the whole PC market. Thus being king-of-the-hill in the PC market isn’t that big of a deal. This market is what Intel owns but it simply isn’t that big of a market. Apple alone is making of CPUs than Intel.',\n 'So if you look at the whole Arm market it is clear that the idea that x86 is still the dominant player is just ludicrous. Arm already won. Intel and AMD today are where the RISC workstation guys were in the 90s. They god the high high-end while facing a high-volume competitor which is rapidly catching up.',\n 'x86 Performance Edge is Not Going to Hold',\n 'The fastest supercomputers today are built using Arm,s not x86 chips. Intel and AMD are able to outperform the chips made by Apple but only at the cost of insane power usage. That is not a sustainable strategy to maintain an edge. Apple has the clear lead in terms of performance per watt. Now Apple cares more about slim design and long battery life than Intel and AMD which both make a lot of money on delivering to data centers. Thus they are not directly competing across the whole product lineup.',\n 'But other companies such as Amazon, Ampere, and Nvidia are making Arm chips for data centers which will compete directly with AMD and Intel. Ampere has their Ampere Altra Max with 128 Arm Neoverse N1 cores. The Altra outperforms the AMD EPYC 7763 with 64 cores which are regarded as the fastest x86 CPU. Amazon has come out with their Graviton3 chip with 64 Neoverse V1 cores. Meanwhile, Nvidia has announced their Grace super-chip which will have 144 Neoverse V2 cores.',\n '',\n 'Overview of current and coming high-performance Arm processors.',\n 'It might be interesting to note the difference between the Neoverse N and V cores. The N variants are for traditional server workloads while the V variants are for high-performance computing (HPC). With HPC we typically mean scientifically oriented workloads such as machine learning, lots of matrix multiplications, and other floating-point operations.',\n 'So you can imagine you might want the Neoverse N cores for hosting databases and web servers while you would use Neoverse V for machine learning, data analysis, simulations, etc.',\n 'The important point is that Arm chips exist for all markets. Apple makes the Arm chips that can compete in the desktop and laptop consumer space. Amazon, Ampere, and Nvidia supply the Arm chips which can compete in data centers.',\n 'But x86 won in the 90s over RISC! Sorry, but the rules have changed. Arm has higher volume today and Arm chip makers have access to equal or superior manufacturing through companies such as TSMC.',\n 'What About RISC-V?',\n 'It is not just when talking about Arm chips that the x86 victory over RISC in the 1990s is mentioned. It is also a point raised whenever somebody talks about the future of RISC-V. Again exactly the same story applies to RISC-V as with Arm. RISC-V chips can in principle be built by TSCM so there is no node size advantage for Intel.',\n 'What about volume? RISC-V-like Arm is starting at the low end where volume is high. RISC-V processors are going into hard drive controllers, mice, keyboards, Bluetooth devices, IoT, and a dozen other things today. Thus RISC-V is a lot more like Arm than the UltraSPARC, MIPS, and Alpha RISC processors of the 1990s.',\n 'Of course, it will take time for RISC-V to gain the kind of popularity and performance Arm enjoys today, but there is nothing stopping RISC-V from beating x86 chips sometimes in the future. However, by the time RISC-V is competing in the high-performance space I doubt there are any x86 chips around to compete against. The future will more likely be a battle between Arm and RISC-V. But you should give RISC-V at least another 5–6 years before you can expect it to be going up against Arm.',\n 'Related Stories',\n 'If you are interested in reading more of my stories about microprocessors, CISC, and RISC you may find some of these interesting:',\n 'What the Heck is a Micro-Operation? — Micro-operations is a concept that pops up often when discussing modern RISC and CISC processors. This story demystifies what a micro-operation is.',\n 'Why Pipeline a Microprocessor? — RISC processors pioneered the use of instruction pipelines. What are they and why are they useful to increase performance?',\n 'What Does RISC and CISC Mean in 2020? — Historical comparison of RISC and CISC design and a look at their convergence and the differences that still exist.',\n 'RISC-V Vector Instructions vs ARM and x86 SIMD — Focused on comparing packed-SIMD and vector-SIMD instructions and why they exist.',\n 'ARMv9: What is the Big Deal? — Goes into more details about the SVE2 vector-SIMD instruction set added to the ARMv9 architecture.',\n 'The Genius of RISC-V Microprocessors — Nothing about SIMD but about instruction compression and macro-operation fusion in RISC-V cores.',\n 'Vector Processing on CPUs and GPUs Compared — Different ways of achieving data parallelism are compared and explored.',\n 'Why Is Apple’s M1 Chip So Fast? — Relevant when discussing RISC and CISC processors as this gets into how the fact that M1 is a RISC professor plays a significant role in explaining why it performs so well.',\n '99',\n '',\n '',\n '4']"
          },
          "metadata": {}
        }
      ],
      "execution_count": 18,
      "metadata": {
        "gather": {
          "logged": 1649918426840
        }
      },
      "id": "a5e9773c-e833-4230-aa95-04a60f66df26"
    },
    {
      "cell_type": "code",
      "source": [
        "results[\"top_sentences\"]"
      ],
      "outputs": [
        {
          "output_type": "execute_result",
          "execution_count": 19,
          "data": {
            "text/plain": "['These devices have high-end CPUs in them. Many of Apple’s iPad models have M1 chips inside. The very same chip used in many of their popular desktops and laptops. Thus in terms of CPU capability, it does not make that much sense to separate these markets. So here is a simple statistic that will blow your mind: Apple shipped a total of 285 million iPhones, iPads, and Macs in 2020.',\n 'The fastest supercomputers today are built using Arm,s not x86 chips. Intel and AMD are able to outperform the chips made by Apple but only at the cost of insane power usage. That is not a sustainable strategy to maintain an edge. Apple has the clear lead in terms of performance per watt. Now Apple cares more about slim design and long battery life than Intel and AMD which both make a lot of money on delivering to data centers. Thus they are not directly competing across the whole product lineup.',\n 'Here is a crazy fact few seem to have picked up about the world we live in today. People are used to thinking about Apple as being the small player. Macs have about a 10% market share of the computer market. So in people’s minds, Apple is a small player. What people fail to take into account is how dominant smartphones and tablets have become. An iPhone today frequently costs significantly more than a desktop computer or laptop. You got plenty of smartphones capable of outperforming low-end PCs.']"
          },
          "metadata": {}
        }
      ],
      "execution_count": 19,
      "metadata": {
        "gather": {
          "logged": 1649918431237
        }
      },
      "id": "44385e80-58b4-482b-b95a-6f06cf276f1f"
    },
    {
      "cell_type": "code",
      "source": [
        "def PrintResults(obj):\n",
        "    if isinstance(obj, dict):\n",
        "        for k, v in obj.items():\n",
        "            if hasattr(v, '__iter__'):\n",
        "                print (k)\n",
        "                PrintResults(v)\n",
        "            else:\n",
        "                print ('%s : %s' % (k, v))\n",
        "    elif isinstance(obj, list):\n",
        "        for v in obj:\n",
        "            if hasattr(v, '__iter__'):\n",
        "                PrintResults(v)\n",
        "            else:\n",
        "                print(v) \n",
        "    else:\n",
        "        print (obj)\n",
        "def listToString(s): \n",
        "    \n",
        "    # initialize an empty string\n",
        "    str1 = \"\" \n",
        "    \n",
        "    # traverse in the string  \n",
        "    for ele in s: \n",
        "        str1 += ele  \n",
        "    \n",
        "    # return string  \n",
        "    return str1"
      ],
      "outputs": [],
      "execution_count": 20,
      "metadata": {
        "tags": [],
        "gather": {
          "logged": 1649918433293
        }
      },
      "id": "e469dffa-3610-439f-b518-4bbee65bd7a3"
    },
    {
      "cell_type": "code",
      "source": [
        "query = results['query']\n",
        "str = listToString(results['top_sentences'])"
      ],
      "outputs": [],
      "execution_count": 22,
      "metadata": {
        "gather": {
          "logged": 1649918484366
        }
      },
      "id": "a39ab28b-281a-4557-92ad-852bf7ed32f8"
    },
    {
      "cell_type": "code",
      "source": [
        "s = getprediction(str, query,tokenzer, newsqa_model, doc_stride = 512)\r\n",
        "res = Paragraph.find('M1 chips ')\r\n",
        "print('start =' ,res, ' end =' ,res+5 )"
      ],
      "outputs": [
        {
          "output_type": "stream",
          "name": "stdout",
          "text": "start = 6863  end = 6868\n"
        }
      ],
      "execution_count": 39,
      "metadata": {
        "tags": [],
        "gather": {
          "logged": 1649918846215
        }
      },
      "id": "c251f02d-a373-4a37-b579-89128dfc5898"
    },
    {
      "cell_type": "code",
      "source": [
        "ans = s[0][0]\r\n",
        "res = Paragraph.find(ans)\r\n",
        "print(res,res+len(ans))"
      ],
      "outputs": [
        {
          "output_type": "stream",
          "name": "stdout",
          "text": "6863 6872\n"
        }
      ],
      "execution_count": 36,
      "metadata": {
        "gather": {
          "logged": 1649918813026
        }
      },
      "id": "52944ee4-e972-42e5-9449-37d7f55b9a61"
    },
    {
      "cell_type": "code",
      "source": [
        "ans"
      ],
      "outputs": [
        {
          "output_type": "execute_result",
          "execution_count": 40,
          "data": {
            "text/plain": "'M1 chips '"
          },
          "metadata": {}
        }
      ],
      "execution_count": 40,
      "metadata": {
        "jupyter": {
          "source_hidden": false,
          "outputs_hidden": false
        },
        "nteract": {
          "transient": {
            "deleting": false
          }
        },
        "gather": {
          "logged": 1649918858347
        }
      },
      "id": "4d148da5-4c30-494a-a4fc-a8f36919c68d"
    }
  ],
  "metadata": {
    "kernelspec": {
      "name": "python3",
      "language": "python",
      "display_name": "Python 3"
    },
    "language_info": {
      "name": "python",
      "version": "3.8.5",
      "mimetype": "text/x-python",
      "codemirror_mode": {
        "name": "ipython",
        "version": 3
      },
      "pygments_lexer": "ipython3",
      "nbconvert_exporter": "python",
      "file_extension": ".py"
    },
    "kernel_info": {
      "name": "python3"
    },
    "microsoft": {
      "host": {
        "AzureML": {
          "notebookHasBeenCompleted": true
        }
      }
    },
    "nteract": {
      "version": "nteract-front-end@1.0.0"
    }
  },
  "nbformat": 4,
  "nbformat_minor": 5
}
